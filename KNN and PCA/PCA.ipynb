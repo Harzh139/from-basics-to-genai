{
  "nbformat": 4,
  "nbformat_minor": 0,
  "metadata": {
    "colab": {
      "provenance": []
    },
    "kernelspec": {
      "name": "python3",
      "display_name": "Python 3"
    },
    "language_info": {
      "name": "python"
    }
  },
  "cells": [
    {
      "cell_type": "code",
      "execution_count": 9,
      "metadata": {
        "colab": {
          "base_uri": "https://localhost:8080/"
        },
        "id": "TlhWlCpCmyJa",
        "outputId": "ba3e7357-92df-40c5-bd3a-3ea5865772d3"
      },
      "outputs": [
        {
          "output_type": "stream",
          "name": "stdout",
          "text": [
            "[[ 0.52828393 -0.25412962  0.58193019  0.56364126]\n",
            " [ 0.33212851  0.93919659  0.02900891  0.0822125 ]\n",
            " [ 0.73274266 -0.19922124 -0.13583859 -0.63635443]]\n",
            "\n",
            "explained variance ratio\n",
            "\n",
            "[0.72703821 0.2283104  0.04019711]\n"
          ]
        }
      ],
      "source": [
        "import pandas as pd\n",
        "import numpy as np\n",
        "import matplotlib.pyplot as plt\n",
        "import seaborn as sns\n",
        "\n",
        "import warnings\n",
        "warnings.filterwarnings('ignore')\n",
        "\n",
        "from sklearn.datasets import load_iris\n",
        "from sklearn.model_selection import train_test_split\n",
        "from sklearn.preprocessing import StandardScaler\n",
        "from sklearn.decomposition import PCA\n",
        "\n",
        "data = load_iris()\n",
        "\n",
        "X = data.data\n",
        "y = data.target\n",
        "X_train,X_test,y_train,y_test = train_test_split(X,y,test_size=0.2 , random_state=1)\n",
        "scalar = StandardScaler()\n",
        "X_train = scalar.fit_transform(X_train)\n",
        "X_test = scalar.transform(X_test)\n",
        "\n",
        "pca = PCA(n_components=3)\n",
        "X_train = pca.fit_transform(X_train)\n",
        "X_test = pca.transform(X_test)\n",
        "\n",
        "print(f'{pca.components_}\\n')\n",
        "print(\"explained variance ratio\\n\")\n",
        "print(pca.explained_variance_ratio_)"
      ]
    },
    {
      "cell_type": "code",
      "source": [
        ""
      ],
      "metadata": {
        "id": "j3fOuvgFnV-R"
      },
      "execution_count": null,
      "outputs": []
    }
  ]
}
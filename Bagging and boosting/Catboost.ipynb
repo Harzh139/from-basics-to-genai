{
  "nbformat": 4,
  "nbformat_minor": 0,
  "metadata": {
    "colab": {
      "provenance": []
    },
    "kernelspec": {
      "name": "python3",
      "display_name": "Python 3"
    },
    "language_info": {
      "name": "python"
    }
  },
  "cells": [
    {
      "cell_type": "code",
      "source": [
        "from catboost import CatBoostClassifier\n",
        "from sklearn.datasets import make_classification\n",
        "from sklearn.model_selection import train_test_split , GridSearchCV\n",
        "from sklearn.metrics import r2_score , confusion_matrix\n",
        "\n",
        "import warnings\n",
        "warnings.filterwarnings('ignore')\n",
        "\n",
        "X,y = make_classification(n_samples=1000,n_features=20,n_classes=2,random_state=1)\n",
        "X_train,X_test,y_train,y_test = train_test_split(X,y, test_size=0.2 , random_state=1)\n",
        "\n",
        "model = CatBoostClassifier(verbose=0)\n",
        "model.fit(X_train,y_train)\n",
        "y_pred = model.predict(X_test)\n",
        "\n",
        "r2 = r2_score(y_test,y_pred)\n",
        "print(f' r2 is : {r2}')\n",
        "confusionM = confusion_matrix(y_test,y_pred)\n",
        "print(f'confusion matrix is :\\n {confusionM}')\n"
      ],
      "metadata": {
        "colab": {
          "base_uri": "https://localhost:8080/"
        },
        "id": "k_j1nw2epHPP",
        "outputId": "de090fb8-29ed-4935-a6af-f028f5e26809"
      },
      "execution_count": 5,
      "outputs": [
        {
          "output_type": "stream",
          "name": "stdout",
          "text": [
            " r2 is : 0.4747474747474748\n",
            "confusion matrix is :\n",
            " [[75 15]\n",
            " [11 99]]\n"
          ]
        }
      ]
    },
    {
      "cell_type": "code",
      "metadata": {
        "colab": {
          "base_uri": "https://localhost:8080/"
        },
        "id": "ceb09d16",
        "outputId": "3418d7a8-721e-402e-b8de-32c51491e406"
      },
      "source": [
        "param_grid = {\n",
        "    'iterations': [100, 200, 300],\n",
        "    'learning_rate': [0.01, 0.05, 0.1],\n",
        "    'depth': [4, 6, 8]\n",
        "}\n",
        "\n",
        "grid_search = GridSearchCV(estimator=CatBoostClassifier(verbose=0), param_grid=param_grid, cv=5, scoring='r2', n_jobs=-1)\n",
        "\n",
        "grid_search.fit(X_train, y_train)\n",
        "\n",
        "print(f\"Best parameters: {grid_search.best_params_}\")\n",
        "print(f\"Best R2 score: {grid_search.best_score_}\")\n",
        "\n",
        "y_pred_gs = grid_search.predict(X_test)\n",
        "r2_gs = r2_score(y_test, y_pred_gs)\n",
        "print(f'R2 score with best parameters from GridSearchCV: {r2_gs}')"
      ],
      "execution_count": 6,
      "outputs": [
        {
          "output_type": "stream",
          "name": "stdout",
          "text": [
            "Best parameters: {'depth': 4, 'iterations': 200, 'learning_rate': 0.01}\n",
            "Best R2 score: 0.45457304963622924\n",
            "R2 score with best parameters from GridSearchCV: 0.49494949494949503\n"
          ]
        }
      ]
    }
  ]
}
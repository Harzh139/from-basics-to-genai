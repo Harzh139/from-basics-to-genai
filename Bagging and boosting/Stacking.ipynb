{
  "nbformat": 4,
  "nbformat_minor": 0,
  "metadata": {
    "colab": {
      "provenance": []
    },
    "kernelspec": {
      "name": "python3",
      "display_name": "Python 3"
    },
    "language_info": {
      "name": "python"
    }
  },
  "cells": [
    {
      "cell_type": "code",
      "execution_count": 1,
      "metadata": {
        "colab": {
          "base_uri": "https://localhost:8080/"
        },
        "id": "IFQhBRhdrfnh",
        "outputId": "b347c091-22a1-477c-a02e-79615ca01772"
      },
      "outputs": [
        {
          "output_type": "stream",
          "name": "stdout",
          "text": [
            "Stacking Ensemble Accuracy: 0.94\n"
          ]
        }
      ],
      "source": [
        "import numpy as np\n",
        "from sklearn.datasets import make_classification\n",
        "from sklearn.model_selection import train_test_split\n",
        "from sklearn.ensemble import StackingClassifier\n",
        "from sklearn.linear_model import LogisticRegression\n",
        "from sklearn.tree import DecisionTreeClassifier\n",
        "from sklearn.svm import SVC\n",
        "\n",
        "# Generate some sample data\n",
        "X, y = make_classification(n_samples=1000, n_features=20, n_informative=15, random_state=42)\n",
        "X_train, X_test, y_train, y_test = train_test_split(X, y, test_size=0.2, random_state=42)\n",
        "\n",
        "# Define base models (level 0 models)\n",
        "estimators = [\n",
        "    ('lr', LogisticRegression(random_state=42)),\n",
        "    ('dt', DecisionTreeClassifier(random_state=42)),\n",
        "    ('svc', SVC(probability=True, random_state=42))\n",
        "]\n",
        "\n",
        "# Define the meta-model (level 1 model)\n",
        "meta_model = LogisticRegression(random_state=42)\n",
        "\n",
        "# Create the StackingClassifier\n",
        "stacking_clf = StackingClassifier(estimators=estimators, final_estimator=meta_model, cv=5)\n",
        "\n",
        "# Train the stacking ensemble\n",
        "stacking_clf.fit(X_train, y_train)\n",
        "\n",
        "# Make predictions\n",
        "y_pred = stacking_clf.predict(X_test)\n",
        "\n",
        "# Evaluate the model (you would typically use metrics like accuracy, precision, recall, etc.)\n",
        "from sklearn.metrics import accuracy_score\n",
        "accuracy = accuracy_score(y_test, y_pred)\n",
        "print(f\"Stacking Ensemble Accuracy: {accuracy}\")"
      ]
    }
  ]
}
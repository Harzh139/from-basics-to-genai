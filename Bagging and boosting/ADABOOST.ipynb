{
  "nbformat": 4,
  "nbformat_minor": 0,
  "metadata": {
    "colab": {
      "provenance": []
    },
    "kernelspec": {
      "name": "python3",
      "display_name": "Python 3"
    },
    "language_info": {
      "name": "python"
    }
  },
  "cells": [
    {
      "cell_type": "code",
      "execution_count": 2,
      "metadata": {
        "id": "nX-3c220Aq_J"
      },
      "outputs": [],
      "source": [
        "from sklearn.datasets import make_classification\n",
        "from sklearn.model_selection import train_test_split\n",
        "from sklearn.ensemble import AdaBoostClassifier\n",
        "from sklearn.metrics import accuracy_score,classification_report,confusion_matrix\n",
        "\n",
        "import warnings\n",
        "warnings.filterwarnings('ignore')\n",
        "\n",
        "X,y = make_classification(n_samples=100,n_features=20,n_classes=2,random_state=1)\n",
        "X_train,X_test,y_train,y_test = train_test_split(X,y , test_size=0.2 ,random_state=1)\n",
        "classifier = AdaBoostClassifier()\n",
        "classifier.fit(X_train,y_train)\n",
        "y_pred = classifier.predict(X_test)\n"
      ]
    },
    {
      "cell_type": "code",
      "source": [
        "print(accuracy_score(y_test,y_pred))\n",
        "print(classification_report(y_test,y_pred))\n",
        "print(confusion_matrix(y_test,y_pred))\n"
      ],
      "metadata": {
        "colab": {
          "base_uri": "https://localhost:8080/"
        },
        "id": "eZEdByN9BTBz",
        "outputId": "20516891-70ba-4aeb-c4ed-63e38d9d022a"
      },
      "execution_count": 5,
      "outputs": [
        {
          "output_type": "stream",
          "name": "stdout",
          "text": [
            "0.95\n",
            "              precision    recall  f1-score   support\n",
            "\n",
            "           0       0.92      1.00      0.96        12\n",
            "           1       1.00      0.88      0.93         8\n",
            "\n",
            "    accuracy                           0.95        20\n",
            "   macro avg       0.96      0.94      0.95        20\n",
            "weighted avg       0.95      0.95      0.95        20\n",
            "\n",
            "[[12  0]\n",
            " [ 1  7]]\n"
          ]
        }
      ]
    },
    {
      "cell_type": "code",
      "source": [
        "from sklearn.model_selection import GridSearchCV\n",
        "param_grid = {\n",
        "    'n_estimators': [50, 100, 200],  # Number of boosting stages\n",
        "    'learning_rate': [0.01, 0.1, 1.0],  # Contribution of each weak learner\n",
        "    'algorithm': ['SAMME', 'SAMME.R']  # Boosting algorithm\n",
        "}\n",
        "ada = AdaBoostClassifier()\n",
        "clf = GridSearchCV(estimator=ada , param_grid=param_grid , cv = 5 , verbose = 3)\n",
        "clf.fit(X_train,y_train)\n",
        "y_pred1 = clf.best_estimator_.predict(X_test)"
      ],
      "metadata": {
        "colab": {
          "base_uri": "https://localhost:8080/"
        },
        "id": "5sdjNYxLCCcI",
        "outputId": "488fb6fa-aa5e-4879-a1bb-b22ce22998f0"
      },
      "execution_count": 7,
      "outputs": [
        {
          "output_type": "stream",
          "name": "stdout",
          "text": [
            "Fitting 5 folds for each of 18 candidates, totalling 90 fits\n",
            "[CV 1/5] END algorithm=SAMME, learning_rate=0.01, n_estimators=50;, score=0.938 total time=   0.1s\n",
            "[CV 2/5] END algorithm=SAMME, learning_rate=0.01, n_estimators=50;, score=0.938 total time=   0.1s\n",
            "[CV 3/5] END algorithm=SAMME, learning_rate=0.01, n_estimators=50;, score=1.000 total time=   0.1s\n",
            "[CV 4/5] END algorithm=SAMME, learning_rate=0.01, n_estimators=50;, score=0.938 total time=   0.1s\n",
            "[CV 5/5] END algorithm=SAMME, learning_rate=0.01, n_estimators=50;, score=1.000 total time=   0.1s\n",
            "[CV 1/5] END algorithm=SAMME, learning_rate=0.01, n_estimators=100;, score=0.938 total time=   0.2s\n",
            "[CV 2/5] END algorithm=SAMME, learning_rate=0.01, n_estimators=100;, score=0.938 total time=   0.2s\n",
            "[CV 3/5] END algorithm=SAMME, learning_rate=0.01, n_estimators=100;, score=1.000 total time=   0.2s\n",
            "[CV 4/5] END algorithm=SAMME, learning_rate=0.01, n_estimators=100;, score=0.938 total time=   0.2s\n",
            "[CV 5/5] END algorithm=SAMME, learning_rate=0.01, n_estimators=100;, score=1.000 total time=   0.2s\n",
            "[CV 1/5] END algorithm=SAMME, learning_rate=0.01, n_estimators=200;, score=0.938 total time=   0.4s\n",
            "[CV 2/5] END algorithm=SAMME, learning_rate=0.01, n_estimators=200;, score=0.938 total time=   0.4s\n",
            "[CV 3/5] END algorithm=SAMME, learning_rate=0.01, n_estimators=200;, score=1.000 total time=   0.4s\n",
            "[CV 4/5] END algorithm=SAMME, learning_rate=0.01, n_estimators=200;, score=0.938 total time=   0.4s\n",
            "[CV 5/5] END algorithm=SAMME, learning_rate=0.01, n_estimators=200;, score=1.000 total time=   0.4s\n",
            "[CV 1/5] END algorithm=SAMME, learning_rate=0.1, n_estimators=50;, score=0.938 total time=   0.1s\n",
            "[CV 2/5] END algorithm=SAMME, learning_rate=0.1, n_estimators=50;, score=0.938 total time=   0.1s\n",
            "[CV 3/5] END algorithm=SAMME, learning_rate=0.1, n_estimators=50;, score=1.000 total time=   0.1s\n",
            "[CV 4/5] END algorithm=SAMME, learning_rate=0.1, n_estimators=50;, score=0.938 total time=   0.1s\n",
            "[CV 5/5] END algorithm=SAMME, learning_rate=0.1, n_estimators=50;, score=1.000 total time=   0.1s\n",
            "[CV 1/5] END algorithm=SAMME, learning_rate=0.1, n_estimators=100;, score=0.938 total time=   0.2s\n",
            "[CV 2/5] END algorithm=SAMME, learning_rate=0.1, n_estimators=100;, score=0.938 total time=   0.2s\n",
            "[CV 3/5] END algorithm=SAMME, learning_rate=0.1, n_estimators=100;, score=1.000 total time=   0.2s\n",
            "[CV 4/5] END algorithm=SAMME, learning_rate=0.1, n_estimators=100;, score=0.938 total time=   0.2s\n",
            "[CV 5/5] END algorithm=SAMME, learning_rate=0.1, n_estimators=100;, score=1.000 total time=   0.2s\n",
            "[CV 1/5] END algorithm=SAMME, learning_rate=0.1, n_estimators=200;, score=0.938 total time=   0.4s\n",
            "[CV 2/5] END algorithm=SAMME, learning_rate=0.1, n_estimators=200;, score=0.938 total time=   0.4s\n",
            "[CV 3/5] END algorithm=SAMME, learning_rate=0.1, n_estimators=200;, score=1.000 total time=   0.4s\n",
            "[CV 4/5] END algorithm=SAMME, learning_rate=0.1, n_estimators=200;, score=0.938 total time=   0.5s\n",
            "[CV 5/5] END algorithm=SAMME, learning_rate=0.1, n_estimators=200;, score=1.000 total time=   0.6s\n",
            "[CV 1/5] END algorithm=SAMME, learning_rate=1.0, n_estimators=50;, score=0.938 total time=   0.2s\n",
            "[CV 2/5] END algorithm=SAMME, learning_rate=1.0, n_estimators=50;, score=0.938 total time=   0.2s\n",
            "[CV 3/5] END algorithm=SAMME, learning_rate=1.0, n_estimators=50;, score=1.000 total time=   0.2s\n",
            "[CV 4/5] END algorithm=SAMME, learning_rate=1.0, n_estimators=50;, score=0.938 total time=   0.2s\n",
            "[CV 5/5] END algorithm=SAMME, learning_rate=1.0, n_estimators=50;, score=1.000 total time=   0.2s\n",
            "[CV 1/5] END algorithm=SAMME, learning_rate=1.0, n_estimators=100;, score=0.938 total time=   0.4s\n",
            "[CV 2/5] END algorithm=SAMME, learning_rate=1.0, n_estimators=100;, score=0.938 total time=   0.3s\n",
            "[CV 3/5] END algorithm=SAMME, learning_rate=1.0, n_estimators=100;, score=1.000 total time=   0.3s\n",
            "[CV 4/5] END algorithm=SAMME, learning_rate=1.0, n_estimators=100;, score=0.938 total time=   0.2s\n",
            "[CV 5/5] END algorithm=SAMME, learning_rate=1.0, n_estimators=100;, score=1.000 total time=   0.2s\n",
            "[CV 1/5] END algorithm=SAMME, learning_rate=1.0, n_estimators=200;, score=0.938 total time=   0.4s\n",
            "[CV 2/5] END algorithm=SAMME, learning_rate=1.0, n_estimators=200;, score=0.938 total time=   0.4s\n",
            "[CV 3/5] END algorithm=SAMME, learning_rate=1.0, n_estimators=200;, score=1.000 total time=   0.4s\n",
            "[CV 4/5] END algorithm=SAMME, learning_rate=1.0, n_estimators=200;, score=0.938 total time=   0.4s\n",
            "[CV 5/5] END algorithm=SAMME, learning_rate=1.0, n_estimators=200;, score=1.000 total time=   0.4s\n",
            "[CV 1/5] END algorithm=SAMME.R, learning_rate=0.01, n_estimators=50;, score=nan total time=   0.0s\n",
            "[CV 2/5] END algorithm=SAMME.R, learning_rate=0.01, n_estimators=50;, score=nan total time=   0.0s\n",
            "[CV 3/5] END algorithm=SAMME.R, learning_rate=0.01, n_estimators=50;, score=nan total time=   0.0s\n",
            "[CV 4/5] END algorithm=SAMME.R, learning_rate=0.01, n_estimators=50;, score=nan total time=   0.0s\n",
            "[CV 5/5] END algorithm=SAMME.R, learning_rate=0.01, n_estimators=50;, score=nan total time=   0.0s\n",
            "[CV 1/5] END algorithm=SAMME.R, learning_rate=0.01, n_estimators=100;, score=nan total time=   0.0s\n",
            "[CV 2/5] END algorithm=SAMME.R, learning_rate=0.01, n_estimators=100;, score=nan total time=   0.0s\n",
            "[CV 3/5] END algorithm=SAMME.R, learning_rate=0.01, n_estimators=100;, score=nan total time=   0.0s\n",
            "[CV 4/5] END algorithm=SAMME.R, learning_rate=0.01, n_estimators=100;, score=nan total time=   0.0s\n",
            "[CV 5/5] END algorithm=SAMME.R, learning_rate=0.01, n_estimators=100;, score=nan total time=   0.0s\n",
            "[CV 1/5] END algorithm=SAMME.R, learning_rate=0.01, n_estimators=200;, score=nan total time=   0.0s\n",
            "[CV 2/5] END algorithm=SAMME.R, learning_rate=0.01, n_estimators=200;, score=nan total time=   0.0s\n",
            "[CV 3/5] END algorithm=SAMME.R, learning_rate=0.01, n_estimators=200;, score=nan total time=   0.0s\n",
            "[CV 4/5] END algorithm=SAMME.R, learning_rate=0.01, n_estimators=200;, score=nan total time=   0.0s\n",
            "[CV 5/5] END algorithm=SAMME.R, learning_rate=0.01, n_estimators=200;, score=nan total time=   0.0s\n",
            "[CV 1/5] END algorithm=SAMME.R, learning_rate=0.1, n_estimators=50;, score=nan total time=   0.0s\n",
            "[CV 2/5] END algorithm=SAMME.R, learning_rate=0.1, n_estimators=50;, score=nan total time=   0.0s\n",
            "[CV 3/5] END algorithm=SAMME.R, learning_rate=0.1, n_estimators=50;, score=nan total time=   0.0s\n",
            "[CV 4/5] END algorithm=SAMME.R, learning_rate=0.1, n_estimators=50;, score=nan total time=   0.0s\n",
            "[CV 5/5] END algorithm=SAMME.R, learning_rate=0.1, n_estimators=50;, score=nan total time=   0.0s\n",
            "[CV 1/5] END algorithm=SAMME.R, learning_rate=0.1, n_estimators=100;, score=nan total time=   0.0s\n",
            "[CV 2/5] END algorithm=SAMME.R, learning_rate=0.1, n_estimators=100;, score=nan total time=   0.0s\n",
            "[CV 3/5] END algorithm=SAMME.R, learning_rate=0.1, n_estimators=100;, score=nan total time=   0.0s\n",
            "[CV 4/5] END algorithm=SAMME.R, learning_rate=0.1, n_estimators=100;, score=nan total time=   0.0s\n",
            "[CV 5/5] END algorithm=SAMME.R, learning_rate=0.1, n_estimators=100;, score=nan total time=   0.0s\n",
            "[CV 1/5] END algorithm=SAMME.R, learning_rate=0.1, n_estimators=200;, score=nan total time=   0.0s\n",
            "[CV 2/5] END algorithm=SAMME.R, learning_rate=0.1, n_estimators=200;, score=nan total time=   0.0s\n",
            "[CV 3/5] END algorithm=SAMME.R, learning_rate=0.1, n_estimators=200;, score=nan total time=   0.0s\n",
            "[CV 4/5] END algorithm=SAMME.R, learning_rate=0.1, n_estimators=200;, score=nan total time=   0.0s\n",
            "[CV 5/5] END algorithm=SAMME.R, learning_rate=0.1, n_estimators=200;, score=nan total time=   0.0s\n",
            "[CV 1/5] END algorithm=SAMME.R, learning_rate=1.0, n_estimators=50;, score=nan total time=   0.0s\n",
            "[CV 2/5] END algorithm=SAMME.R, learning_rate=1.0, n_estimators=50;, score=nan total time=   0.0s\n",
            "[CV 3/5] END algorithm=SAMME.R, learning_rate=1.0, n_estimators=50;, score=nan total time=   0.0s\n",
            "[CV 4/5] END algorithm=SAMME.R, learning_rate=1.0, n_estimators=50;, score=nan total time=   0.0s\n",
            "[CV 5/5] END algorithm=SAMME.R, learning_rate=1.0, n_estimators=50;, score=nan total time=   0.0s\n",
            "[CV 1/5] END algorithm=SAMME.R, learning_rate=1.0, n_estimators=100;, score=nan total time=   0.0s\n",
            "[CV 2/5] END algorithm=SAMME.R, learning_rate=1.0, n_estimators=100;, score=nan total time=   0.0s\n",
            "[CV 3/5] END algorithm=SAMME.R, learning_rate=1.0, n_estimators=100;, score=nan total time=   0.0s\n",
            "[CV 4/5] END algorithm=SAMME.R, learning_rate=1.0, n_estimators=100;, score=nan total time=   0.0s\n",
            "[CV 5/5] END algorithm=SAMME.R, learning_rate=1.0, n_estimators=100;, score=nan total time=   0.0s\n",
            "[CV 1/5] END algorithm=SAMME.R, learning_rate=1.0, n_estimators=200;, score=nan total time=   0.0s\n",
            "[CV 2/5] END algorithm=SAMME.R, learning_rate=1.0, n_estimators=200;, score=nan total time=   0.0s\n",
            "[CV 3/5] END algorithm=SAMME.R, learning_rate=1.0, n_estimators=200;, score=nan total time=   0.0s\n",
            "[CV 4/5] END algorithm=SAMME.R, learning_rate=1.0, n_estimators=200;, score=nan total time=   0.0s\n",
            "[CV 5/5] END algorithm=SAMME.R, learning_rate=1.0, n_estimators=200;, score=nan total time=   0.0s\n"
          ]
        }
      ]
    },
    {
      "cell_type": "code",
      "metadata": {
        "colab": {
          "base_uri": "https://localhost:8080/"
        },
        "id": "38ca3c1b",
        "outputId": "6f4eafbe-f1e4-45bf-a212-49af1cf2c78a"
      },
      "source": [
        "print(accuracy_score(y_test,y_pred1))\n",
        "print(classification_report(y_test,y_pred1))\n",
        "print(confusion_matrix(y_test,y_pred1))\n"
      ],
      "execution_count": 10,
      "outputs": [
        {
          "output_type": "stream",
          "name": "stdout",
          "text": [
            "1.0\n",
            "              precision    recall  f1-score   support\n",
            "\n",
            "           0       1.00      1.00      1.00        12\n",
            "           1       1.00      1.00      1.00         8\n",
            "\n",
            "    accuracy                           1.00        20\n",
            "   macro avg       1.00      1.00      1.00        20\n",
            "weighted avg       1.00      1.00      1.00        20\n",
            "\n",
            "[[12  0]\n",
            " [ 0  8]]\n"
          ]
        }
      ]
    },
    {
      "cell_type": "markdown",
      "source": [
        "**ADABOOST regression**"
      ],
      "metadata": {
        "id": "b-7p40mSD3nn"
      }
    },
    {
      "cell_type": "code",
      "source": [
        "from sklearn.datasets import make_regression\n",
        "from sklearn.model_selection import train_test_split\n",
        "from sklearn.ensemble import AdaBoostRegressor\n",
        "\n",
        "\n",
        "\n",
        "X,y = make_regression(n_samples=1000,n_features=2,noise=10,random_state=1)\n",
        "X_train,X_test,y_train,y_test = train_test_split(X,y , test_size=0.2 ,random_state=1)\n",
        "Regressor = AdaBoostRegressor()\n",
        "Regressor.fit(X_train,y_train)\n",
        "y_pred = Regressor.predict(X_test)\n"
      ],
      "metadata": {
        "id": "1AyhSdcQDkWr"
      },
      "execution_count": 11,
      "outputs": []
    },
    {
      "cell_type": "code",
      "metadata": {
        "colab": {
          "base_uri": "https://localhost:8080/"
        },
        "id": "6d3e3f12",
        "outputId": "79dcfe36-4b15-4615-d72e-2dc743efc925"
      },
      "source": [
        "from sklearn.metrics import mean_squared_error, r2_score, mean_absolute_error\n",
        "\n",
        "print(\"Mean Squared Error:\", mean_squared_error(y_test, y_pred))\n",
        "print(\"R-squared:\", r2_score(y_test, y_pred))\n",
        "print(\"Mean Absolute Error:\", mean_absolute_error(y_test, y_pred))"
      ],
      "execution_count": 15,
      "outputs": [
        {
          "output_type": "stream",
          "name": "stdout",
          "text": [
            "Mean Squared Error: 431.61393860620154\n",
            "R-squared: 0.9504091901422588\n",
            "Mean Absolute Error: 15.596391921690067\n"
          ]
        }
      ]
    },
    {
      "cell_type": "code",
      "source": [],
      "metadata": {
        "id": "HnICcKBtFDUo"
      },
      "execution_count": null,
      "outputs": []
    },
    {
      "cell_type": "code",
      "metadata": {
        "colab": {
          "base_uri": "https://localhost:8080/"
        },
        "id": "7480082f",
        "outputId": "528abd15-c2c5-4b05-f3b0-aca9787c687d"
      },
      "source": [
        "from sklearn.model_selection import GridSearchCV\n",
        "from sklearn.ensemble import AdaBoostRegressor\n",
        "\n",
        "# Define the parameter grid for AdaBoostRegressor\n",
        "param_grid_regressor = {\n",
        "    'n_estimators': [50, 100, 200],  # Number of boosting stages\n",
        "    'learning_rate': [0.01, 0.1, 1.0],  # Contribution of each weak learner\n",
        "    'loss': ['linear', 'square', 'exponential'] # Loss function to use\n",
        "}\n",
        "\n",
        "# Initialize AdaBoostRegressor\n",
        "ada_reg = AdaBoostRegressor()\n",
        "\n",
        "# Initialize GridSearchCV\n",
        "grid_search_regressor = GridSearchCV(estimator=ada_reg, param_grid=param_grid_regressor, cv=5, verbose=3)\n",
        "\n",
        "# Fit GridSearchCV to the training data\n",
        "grid_search_regressor.fit(X_train, y_train)\n",
        "\n",
        "# Get the best regressor model\n",
        "best_regressor = grid_search_regressor.best_estimator_\n",
        "\n",
        "# Make predictions with the best regressor\n",
        "y_pred_tuned = best_regressor.predict(X_test)"
      ],
      "execution_count": 16,
      "outputs": [
        {
          "output_type": "stream",
          "name": "stdout",
          "text": [
            "Fitting 5 folds for each of 27 candidates, totalling 135 fits\n",
            "[CV 1/5] END learning_rate=0.01, loss=linear, n_estimators=50;, score=0.927 total time=   0.1s\n",
            "[CV 2/5] END learning_rate=0.01, loss=linear, n_estimators=50;, score=0.940 total time=   0.1s\n",
            "[CV 3/5] END learning_rate=0.01, loss=linear, n_estimators=50;, score=0.938 total time=   0.1s\n",
            "[CV 4/5] END learning_rate=0.01, loss=linear, n_estimators=50;, score=0.934 total time=   0.1s\n",
            "[CV 5/5] END learning_rate=0.01, loss=linear, n_estimators=50;, score=0.937 total time=   0.1s\n",
            "[CV 1/5] END learning_rate=0.01, loss=linear, n_estimators=100;, score=0.932 total time=   0.3s\n",
            "[CV 2/5] END learning_rate=0.01, loss=linear, n_estimators=100;, score=0.939 total time=   0.3s\n",
            "[CV 3/5] END learning_rate=0.01, loss=linear, n_estimators=100;, score=0.939 total time=   0.7s\n",
            "[CV 4/5] END learning_rate=0.01, loss=linear, n_estimators=100;, score=0.933 total time=   0.3s\n",
            "[CV 5/5] END learning_rate=0.01, loss=linear, n_estimators=100;, score=0.937 total time=   0.2s\n",
            "[CV 1/5] END learning_rate=0.01, loss=linear, n_estimators=200;, score=0.934 total time=   0.5s\n",
            "[CV 2/5] END learning_rate=0.01, loss=linear, n_estimators=200;, score=0.943 total time=   0.4s\n",
            "[CV 3/5] END learning_rate=0.01, loss=linear, n_estimators=200;, score=0.941 total time=   0.5s\n",
            "[CV 4/5] END learning_rate=0.01, loss=linear, n_estimators=200;, score=0.937 total time=   0.5s\n",
            "[CV 5/5] END learning_rate=0.01, loss=linear, n_estimators=200;, score=0.936 total time=   0.5s\n",
            "[CV 1/5] END learning_rate=0.01, loss=square, n_estimators=50;, score=0.931 total time=   0.1s\n",
            "[CV 2/5] END learning_rate=0.01, loss=square, n_estimators=50;, score=0.941 total time=   0.1s\n",
            "[CV 3/5] END learning_rate=0.01, loss=square, n_estimators=50;, score=0.939 total time=   0.1s\n",
            "[CV 4/5] END learning_rate=0.01, loss=square, n_estimators=50;, score=0.934 total time=   0.1s\n",
            "[CV 5/5] END learning_rate=0.01, loss=square, n_estimators=50;, score=0.934 total time=   0.1s\n",
            "[CV 1/5] END learning_rate=0.01, loss=square, n_estimators=100;, score=0.932 total time=   0.2s\n",
            "[CV 2/5] END learning_rate=0.01, loss=square, n_estimators=100;, score=0.940 total time=   0.2s\n",
            "[CV 3/5] END learning_rate=0.01, loss=square, n_estimators=100;, score=0.938 total time=   0.2s\n",
            "[CV 4/5] END learning_rate=0.01, loss=square, n_estimators=100;, score=0.938 total time=   0.3s\n",
            "[CV 5/5] END learning_rate=0.01, loss=square, n_estimators=100;, score=0.937 total time=   0.2s\n",
            "[CV 1/5] END learning_rate=0.01, loss=square, n_estimators=200;, score=0.937 total time=   0.5s\n",
            "[CV 2/5] END learning_rate=0.01, loss=square, n_estimators=200;, score=0.946 total time=   0.5s\n",
            "[CV 3/5] END learning_rate=0.01, loss=square, n_estimators=200;, score=0.946 total time=   0.4s\n",
            "[CV 4/5] END learning_rate=0.01, loss=square, n_estimators=200;, score=0.941 total time=   0.5s\n",
            "[CV 5/5] END learning_rate=0.01, loss=square, n_estimators=200;, score=0.938 total time=   0.6s\n",
            "[CV 1/5] END learning_rate=0.01, loss=exponential, n_estimators=50;, score=0.928 total time=   0.2s\n",
            "[CV 2/5] END learning_rate=0.01, loss=exponential, n_estimators=50;, score=0.935 total time=   0.2s\n",
            "[CV 3/5] END learning_rate=0.01, loss=exponential, n_estimators=50;, score=0.940 total time=   0.2s\n",
            "[CV 4/5] END learning_rate=0.01, loss=exponential, n_estimators=50;, score=0.933 total time=   0.2s\n",
            "[CV 5/5] END learning_rate=0.01, loss=exponential, n_estimators=50;, score=0.935 total time=   0.2s\n",
            "[CV 1/5] END learning_rate=0.01, loss=exponential, n_estimators=100;, score=0.929 total time=   0.4s\n",
            "[CV 2/5] END learning_rate=0.01, loss=exponential, n_estimators=100;, score=0.938 total time=   0.4s\n",
            "[CV 3/5] END learning_rate=0.01, loss=exponential, n_estimators=100;, score=0.938 total time=   0.4s\n",
            "[CV 4/5] END learning_rate=0.01, loss=exponential, n_estimators=100;, score=0.934 total time=   0.3s\n",
            "[CV 5/5] END learning_rate=0.01, loss=exponential, n_estimators=100;, score=0.939 total time=   0.2s\n",
            "[CV 1/5] END learning_rate=0.01, loss=exponential, n_estimators=200;, score=0.935 total time=   0.5s\n",
            "[CV 2/5] END learning_rate=0.01, loss=exponential, n_estimators=200;, score=0.943 total time=   0.5s\n",
            "[CV 3/5] END learning_rate=0.01, loss=exponential, n_estimators=200;, score=0.940 total time=   0.5s\n",
            "[CV 4/5] END learning_rate=0.01, loss=exponential, n_estimators=200;, score=0.938 total time=   0.5s\n",
            "[CV 5/5] END learning_rate=0.01, loss=exponential, n_estimators=200;, score=0.937 total time=   0.5s\n",
            "[CV 1/5] END learning_rate=0.1, loss=linear, n_estimators=50;, score=0.937 total time=   0.1s\n",
            "[CV 2/5] END learning_rate=0.1, loss=linear, n_estimators=50;, score=0.945 total time=   0.1s\n",
            "[CV 3/5] END learning_rate=0.1, loss=linear, n_estimators=50;, score=0.947 total time=   0.1s\n",
            "[CV 4/5] END learning_rate=0.1, loss=linear, n_estimators=50;, score=0.946 total time=   0.1s\n",
            "[CV 5/5] END learning_rate=0.1, loss=linear, n_estimators=50;, score=0.941 total time=   0.1s\n",
            "[CV 1/5] END learning_rate=0.1, loss=linear, n_estimators=100;, score=0.943 total time=   0.2s\n",
            "[CV 2/5] END learning_rate=0.1, loss=linear, n_estimators=100;, score=0.950 total time=   0.2s\n",
            "[CV 3/5] END learning_rate=0.1, loss=linear, n_estimators=100;, score=0.951 total time=   0.2s\n",
            "[CV 4/5] END learning_rate=0.1, loss=linear, n_estimators=100;, score=0.945 total time=   0.2s\n",
            "[CV 5/5] END learning_rate=0.1, loss=linear, n_estimators=100;, score=0.945 total time=   0.2s\n",
            "[CV 1/5] END learning_rate=0.1, loss=linear, n_estimators=200;, score=0.949 total time=   0.4s\n",
            "[CV 2/5] END learning_rate=0.1, loss=linear, n_estimators=200;, score=0.956 total time=   0.4s\n",
            "[CV 3/5] END learning_rate=0.1, loss=linear, n_estimators=200;, score=0.957 total time=   0.5s\n",
            "[CV 4/5] END learning_rate=0.1, loss=linear, n_estimators=200;, score=0.952 total time=   0.4s\n",
            "[CV 5/5] END learning_rate=0.1, loss=linear, n_estimators=200;, score=0.951 total time=   0.5s\n",
            "[CV 1/5] END learning_rate=0.1, loss=square, n_estimators=50;, score=0.939 total time=   0.1s\n",
            "[CV 2/5] END learning_rate=0.1, loss=square, n_estimators=50;, score=0.953 total time=   0.1s\n",
            "[CV 3/5] END learning_rate=0.1, loss=square, n_estimators=50;, score=0.951 total time=   0.1s\n",
            "[CV 4/5] END learning_rate=0.1, loss=square, n_estimators=50;, score=0.945 total time=   0.1s\n",
            "[CV 5/5] END learning_rate=0.1, loss=square, n_estimators=50;, score=0.944 total time=   0.1s\n",
            "[CV 1/5] END learning_rate=0.1, loss=square, n_estimators=100;, score=0.948 total time=   0.3s\n",
            "[CV 2/5] END learning_rate=0.1, loss=square, n_estimators=100;, score=0.954 total time=   0.2s\n",
            "[CV 3/5] END learning_rate=0.1, loss=square, n_estimators=100;, score=0.956 total time=   0.2s\n",
            "[CV 4/5] END learning_rate=0.1, loss=square, n_estimators=100;, score=0.950 total time=   0.2s\n",
            "[CV 5/5] END learning_rate=0.1, loss=square, n_estimators=100;, score=0.951 total time=   0.2s\n",
            "[CV 1/5] END learning_rate=0.1, loss=square, n_estimators=200;, score=0.953 total time=   0.4s\n",
            "[CV 2/5] END learning_rate=0.1, loss=square, n_estimators=200;, score=0.956 total time=   0.4s\n",
            "[CV 3/5] END learning_rate=0.1, loss=square, n_estimators=200;, score=0.956 total time=   0.4s\n",
            "[CV 4/5] END learning_rate=0.1, loss=square, n_estimators=200;, score=0.955 total time=   0.5s\n",
            "[CV 5/5] END learning_rate=0.1, loss=square, n_estimators=200;, score=0.954 total time=   0.7s\n",
            "[CV 1/5] END learning_rate=0.1, loss=exponential, n_estimators=50;, score=0.940 total time=   0.2s\n",
            "[CV 2/5] END learning_rate=0.1, loss=exponential, n_estimators=50;, score=0.948 total time=   0.2s\n",
            "[CV 3/5] END learning_rate=0.1, loss=exponential, n_estimators=50;, score=0.945 total time=   0.2s\n",
            "[CV 4/5] END learning_rate=0.1, loss=exponential, n_estimators=50;, score=0.942 total time=   0.2s\n",
            "[CV 5/5] END learning_rate=0.1, loss=exponential, n_estimators=50;, score=0.941 total time=   0.2s\n",
            "[CV 1/5] END learning_rate=0.1, loss=exponential, n_estimators=100;, score=0.942 total time=   0.4s\n",
            "[CV 2/5] END learning_rate=0.1, loss=exponential, n_estimators=100;, score=0.950 total time=   0.4s\n",
            "[CV 3/5] END learning_rate=0.1, loss=exponential, n_estimators=100;, score=0.953 total time=   0.3s\n",
            "[CV 4/5] END learning_rate=0.1, loss=exponential, n_estimators=100;, score=0.945 total time=   0.2s\n",
            "[CV 5/5] END learning_rate=0.1, loss=exponential, n_estimators=100;, score=0.945 total time=   0.2s\n",
            "[CV 1/5] END learning_rate=0.1, loss=exponential, n_estimators=200;, score=0.947 total time=   0.4s\n",
            "[CV 2/5] END learning_rate=0.1, loss=exponential, n_estimators=200;, score=0.956 total time=   0.5s\n",
            "[CV 3/5] END learning_rate=0.1, loss=exponential, n_estimators=200;, score=0.957 total time=   0.4s\n",
            "[CV 4/5] END learning_rate=0.1, loss=exponential, n_estimators=200;, score=0.954 total time=   0.5s\n",
            "[CV 5/5] END learning_rate=0.1, loss=exponential, n_estimators=200;, score=0.952 total time=   0.4s\n",
            "[CV 1/5] END learning_rate=1.0, loss=linear, n_estimators=50;, score=0.955 total time=   0.1s\n",
            "[CV 2/5] END learning_rate=1.0, loss=linear, n_estimators=50;, score=0.956 total time=   0.1s\n",
            "[CV 3/5] END learning_rate=1.0, loss=linear, n_estimators=50;, score=0.964 total time=   0.1s\n",
            "[CV 4/5] END learning_rate=1.0, loss=linear, n_estimators=50;, score=0.960 total time=   0.1s\n",
            "[CV 5/5] END learning_rate=1.0, loss=linear, n_estimators=50;, score=0.956 total time=   0.1s\n",
            "[CV 1/5] END learning_rate=1.0, loss=linear, n_estimators=100;, score=0.956 total time=   0.1s\n",
            "[CV 2/5] END learning_rate=1.0, loss=linear, n_estimators=100;, score=0.966 total time=   0.2s\n",
            "[CV 3/5] END learning_rate=1.0, loss=linear, n_estimators=100;, score=0.959 total time=   0.2s\n",
            "[CV 4/5] END learning_rate=1.0, loss=linear, n_estimators=100;, score=0.965 total time=   0.2s\n",
            "[CV 5/5] END learning_rate=1.0, loss=linear, n_estimators=100;, score=0.960 total time=   0.2s\n",
            "[CV 1/5] END learning_rate=1.0, loss=linear, n_estimators=200;, score=0.958 total time=   0.2s\n",
            "[CV 2/5] END learning_rate=1.0, loss=linear, n_estimators=200;, score=0.964 total time=   0.2s\n",
            "[CV 3/5] END learning_rate=1.0, loss=linear, n_estimators=200;, score=0.962 total time=   0.4s\n",
            "[CV 4/5] END learning_rate=1.0, loss=linear, n_estimators=200;, score=0.964 total time=   0.4s\n",
            "[CV 5/5] END learning_rate=1.0, loss=linear, n_estimators=200;, score=0.960 total time=   0.4s\n",
            "[CV 1/5] END learning_rate=1.0, loss=square, n_estimators=50;, score=0.960 total time=   0.1s\n",
            "[CV 2/5] END learning_rate=1.0, loss=square, n_estimators=50;, score=0.964 total time=   0.1s\n",
            "[CV 3/5] END learning_rate=1.0, loss=square, n_estimators=50;, score=0.964 total time=   0.1s\n",
            "[CV 4/5] END learning_rate=1.0, loss=square, n_estimators=50;, score=0.958 total time=   0.1s\n",
            "[CV 5/5] END learning_rate=1.0, loss=square, n_estimators=50;, score=0.957 total time=   0.1s\n",
            "[CV 1/5] END learning_rate=1.0, loss=square, n_estimators=100;, score=0.959 total time=   0.2s\n",
            "[CV 2/5] END learning_rate=1.0, loss=square, n_estimators=100;, score=0.964 total time=   0.2s\n",
            "[CV 3/5] END learning_rate=1.0, loss=square, n_estimators=100;, score=0.963 total time=   0.2s\n",
            "[CV 4/5] END learning_rate=1.0, loss=square, n_estimators=100;, score=0.958 total time=   0.2s\n",
            "[CV 5/5] END learning_rate=1.0, loss=square, n_estimators=100;, score=0.956 total time=   0.2s\n",
            "[CV 1/5] END learning_rate=1.0, loss=square, n_estimators=200;, score=0.960 total time=   0.4s\n",
            "[CV 2/5] END learning_rate=1.0, loss=square, n_estimators=200;, score=0.968 total time=   0.4s\n",
            "[CV 3/5] END learning_rate=1.0, loss=square, n_estimators=200;, score=0.963 total time=   0.4s\n",
            "[CV 4/5] END learning_rate=1.0, loss=square, n_estimators=200;, score=0.959 total time=   0.4s\n",
            "[CV 5/5] END learning_rate=1.0, loss=square, n_estimators=200;, score=0.960 total time=   0.4s\n",
            "[CV 1/5] END learning_rate=1.0, loss=exponential, n_estimators=50;, score=0.956 total time=   0.1s\n",
            "[CV 2/5] END learning_rate=1.0, loss=exponential, n_estimators=50;, score=0.962 total time=   0.1s\n",
            "[CV 3/5] END learning_rate=1.0, loss=exponential, n_estimators=50;, score=0.963 total time=   0.1s\n",
            "[CV 4/5] END learning_rate=1.0, loss=exponential, n_estimators=50;, score=0.962 total time=   0.1s\n",
            "[CV 5/5] END learning_rate=1.0, loss=exponential, n_estimators=50;, score=0.960 total time=   0.2s\n",
            "[CV 1/5] END learning_rate=1.0, loss=exponential, n_estimators=100;, score=0.957 total time=   0.3s\n",
            "[CV 2/5] END learning_rate=1.0, loss=exponential, n_estimators=100;, score=0.965 total time=   0.3s\n",
            "[CV 3/5] END learning_rate=1.0, loss=exponential, n_estimators=100;, score=0.963 total time=   0.3s\n",
            "[CV 4/5] END learning_rate=1.0, loss=exponential, n_estimators=100;, score=0.964 total time=   0.3s\n",
            "[CV 5/5] END learning_rate=1.0, loss=exponential, n_estimators=100;, score=0.961 total time=   0.4s\n",
            "[CV 1/5] END learning_rate=1.0, loss=exponential, n_estimators=200;, score=0.959 total time=   0.7s\n",
            "[CV 2/5] END learning_rate=1.0, loss=exponential, n_estimators=200;, score=0.967 total time=   0.5s\n",
            "[CV 3/5] END learning_rate=1.0, loss=exponential, n_estimators=200;, score=0.961 total time=   0.4s\n",
            "[CV 4/5] END learning_rate=1.0, loss=exponential, n_estimators=200;, score=0.965 total time=   0.4s\n",
            "[CV 5/5] END learning_rate=1.0, loss=exponential, n_estimators=200;, score=0.963 total time=   0.4s\n"
          ]
        }
      ]
    },
    {
      "cell_type": "code",
      "metadata": {
        "colab": {
          "base_uri": "https://localhost:8080/"
        },
        "id": "6a22dfa9",
        "outputId": "771fc3a4-f2a2-4983-923e-8dd931b4e070"
      },
      "source": [
        "from sklearn.metrics import mean_squared_error, r2_score, mean_absolute_error\n",
        "\n",
        "# Evaluate the tuned regressor\n",
        "print(\"Mean Squared Error (Tuned):\", mean_squared_error(y_test, y_pred_tuned))\n",
        "print(\"R-squared (Tuned):\", r2_score(y_test, y_pred_tuned))\n",
        "print(\"Mean Absolute Error (Tuned):\", mean_absolute_error(y_test, y_pred_tuned))"
      ],
      "execution_count": 17,
      "outputs": [
        {
          "output_type": "stream",
          "name": "stdout",
          "text": [
            "Mean Squared Error (Tuned): 378.01381098982455\n",
            "R-squared (Tuned): 0.9565676421736229\n",
            "Mean Absolute Error (Tuned): 14.418230107712752\n"
          ]
        }
      ]
    }
  ]
}
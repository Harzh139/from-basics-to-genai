{
  "nbformat": 4,
  "nbformat_minor": 0,
  "metadata": {
    "colab": {
      "provenance": []
    },
    "kernelspec": {
      "name": "python3",
      "display_name": "Python 3"
    },
    "language_info": {
      "name": "python"
    }
  },
  "cells": [
    {
      "cell_type": "code",
      "execution_count": 1,
      "metadata": {
        "id": "K1pTAwhuCqJC"
      },
      "outputs": [],
      "source": [
        "import pandas as pd\n",
        "import numpy as np\n",
        "import matplotlib.pyplot as plt\n",
        "import seaborn as sns\n",
        "\n",
        "import warnings\n",
        "warnings.filterwarnings('ignore')"
      ]
    },
    {
      "cell_type": "code",
      "source": [
        "from sklearn.datasets import make_classification\n",
        "from sklearn.model_selection import train_test_split\n",
        "from sklearn.linear_model import LogisticRegression\n",
        "from sklearn.tree import DecisionTreeClassifier\n",
        "from sklearn.svm import SVC\n",
        "from sklearn.naive_bayes import GaussianNB\n",
        "from sklearn.ensemble import VotingClassifier\n",
        "from sklearn.metrics import accuracy_score,r2_score\n",
        "\n",
        "X,y = make_classification(n_samples= 1000 , n_classes=2 , n_features= 20 , random_state=1)\n",
        "X_train , X_test ,y_train , y_test =  train_test_split(X,y , test_size=0.2 , random_state=1)\n",
        "LR_CLF = LogisticRegression()\n",
        "DT_CLF = DecisionTreeClassifier()\n",
        "SVC_CLF = SVC()\n",
        "G_clf = GaussianNB()\n",
        "Ensemble_clf = VotingClassifier(estimators=[('Logistic_reg',LR_CLF),('Decision_tree',DT_CLF),('support_vector',SVC_CLF),(\"Gaussian\", G_clf)] , voting='hard')\n",
        "Ensemble_clf.fit(X_train , y_train)\n",
        "y_pred = Ensemble_clf.predict(X_test)\n",
        "\n",
        "accuracy = accuracy_score(y_test,y_pred)\n",
        "R2 = r2_score(y_test,y_pred)\n",
        "\n",
        "print(f'Accuracy is {accuracy} and R2 is {R2}')\n",
        "\n"
      ],
      "metadata": {
        "colab": {
          "base_uri": "https://localhost:8080/"
        },
        "id": "RVXW8SVEDTOr",
        "outputId": "05a87be4-04e7-4950-b5ce-9a6cb746c2dc"
      },
      "execution_count": 6,
      "outputs": [
        {
          "output_type": "stream",
          "name": "stdout",
          "text": [
            "Accuracy is 0.87 and R2 is 0.4747474747474748\n"
          ]
        }
      ]
    },
    {
      "cell_type": "code",
      "source": [],
      "metadata": {
        "id": "VQkaxbTOHdjw"
      },
      "execution_count": null,
      "outputs": []
    }
  ]
}
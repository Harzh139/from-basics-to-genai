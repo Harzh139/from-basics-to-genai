{
  "nbformat": 4,
  "nbformat_minor": 0,
  "metadata": {
    "colab": {
      "provenance": []
    },
    "kernelspec": {
      "name": "python3",
      "display_name": "Python 3"
    },
    "language_info": {
      "name": "python"
    }
  },
  "cells": [
    {
      "cell_type": "code",
      "execution_count": 6,
      "metadata": {
        "colab": {
          "base_uri": "https://localhost:8080/"
        },
        "id": "n_ZFilRHKiTW",
        "outputId": "aff589ff-bbda-44d9-bdd0-51921ed4d306"
      },
      "outputs": [
        {
          "output_type": "stream",
          "name": "stdout",
          "text": [
            "The mean squared error of the model is 1650.39 and r2 is 0.96\n"
          ]
        }
      ],
      "source": [
        "from sklearn.datasets import make_regression\n",
        "from sklearn.model_selection import train_test_split\n",
        "from sklearn.linear_model import LinearRegression\n",
        "from sklearn.tree import DecisionTreeRegressor\n",
        "from sklearn.svm import SVR\n",
        "from sklearn.ensemble import VotingRegressor\n",
        "from sklearn.metrics import r2_score,mean_squared_error\n",
        "\n",
        "X,y = make_regression(n_samples = 10000 , n_features =  10 , noise= 0.1 , random_state=1)\n",
        "X_train,X_test,y_train,y_test = train_test_split(X,y ,test_size=0.2 , random_state=1)\n",
        "lr_clf = LinearRegression()\n",
        "dt_clf = DecisionTreeRegressor()\n",
        "svm_clf = SVR(kernel = 'linear')\n",
        "ensemble_regressor = VotingRegressor(estimators=[('Linear_regression',lr_clf),(\"Decision_tree\",dt_clf),(\"Support_vector\",svm_clf)]) # Changed from Classifier\n",
        "ensemble_regressor.fit(X_train,y_train)\n",
        "y_pred = ensemble_regressor.predict(X_test)\n",
        "\n",
        "r2 = r2_score(y_test,y_pred)\n",
        "mse = mean_squared_error(y_test,y_pred)\n",
        "print(f\"The mean squared error of the model is {mse:.2f} and r2 is {r2:.2f}\")"
      ]
    },
    {
      "cell_type": "code",
      "source": [],
      "metadata": {
        "id": "kIyOp1_URr9L"
      },
      "execution_count": null,
      "outputs": []
    }
  ]
}
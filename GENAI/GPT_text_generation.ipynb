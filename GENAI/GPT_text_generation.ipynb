{
  "nbformat": 4,
  "nbformat_minor": 0,
  "metadata": {
    "colab": {
      "provenance": []
    },
    "kernelspec": {
      "name": "python3",
      "display_name": "Python 3"
    },
    "language_info": {
      "name": "python"
    }
  },
  "cells": [
    {
      "cell_type": "code",
      "execution_count": 8,
      "metadata": {
        "id": "GMSMfWEvEY-S"
      },
      "outputs": [],
      "source": [
        "import openai\n",
        "import os\n",
        "import pandas as pd\n",
        "import matplotlib.pyplot as plt\n",
        "import seaborn as sns\n",
        "from IPython.display import Markdown\n",
        "from PIL import Image\n",
        "import base64\n",
        "import numpy as np\n"
      ]
    },
    {
      "cell_type": "code",
      "source": [
        "def display_markdown(text):\n",
        "    display(Markdown(text))"
      ],
      "metadata": {
        "id": "eJCcMnMhFvqE"
      },
      "execution_count": 9,
      "outputs": []
    },
    {
      "cell_type": "code",
      "source": [
        "from groq import Groq\n",
        "\n",
        "client = Groq(api_key=\"#\") # Replace with your Groq API key"
      ],
      "metadata": {
        "id": "a2FpuEgsGq9d"
      },
      "execution_count": 31,
      "outputs": []
    },
    {
      "cell_type": "code",
      "source": [
        "#Text generation\n",
        "prompt = \"who is Tribal Chief in WWE?\"\n",
        "response = client.chat.completions.create(\n",
        "    model = 'llama3-8b-8192', # You can change the model as needed\n",
        "    messages = [\n",
        "        {\"role\":\"user\",\"content\": prompt}\n",
        "    ]\n",
        ")\n",
        "print(response.choices[0].message.content)"
      ],
      "metadata": {
        "colab": {
          "base_uri": "https://localhost:8080/"
        },
        "id": "jPdk79Q6JefR",
        "outputId": "082b1c28-53c4-4075-fc0f-334852255d6b"
      },
      "execution_count": 32,
      "outputs": [
        {
          "output_type": "stream",
          "name": "stdout",
          "text": [
            "Tribal Chief is a nickname or persona of Fury, also known as the leader of the stable \"The Bloodline\" in WWE's SmackDown brand. He is the cousin of Roman Reigns and the manager of Reigns' character, often appearing alongside him in matches and storylines.\n",
            "\n",
            "Fury, also known as Isa \"Fury\" Khan, is a Pakistani-American professional wrestler, born on August 2, 1983. Before joining WWE, he competed in various independent circuits, including Ring of Honor, Impact Wrestling, and Major League Wrestling.\n",
            "\n",
            "As Tribal Chief, Fury acts as the mouthpiece and in-ring enforcer for The Bloodline, often delivering intense promos and enforcing the group's dominance. His character is a blend of a power-hungry leader and a ruthless enforcer, making him a formidable presence in the WWE.\n",
            "\n",
            "In 2022, Fury injured his arm, which led to a temporary hiatus from wrestling. He has since returned to the ring and continues to accompany Roman Reigns and The Bloodline to ringside.\n"
          ]
        }
      ]
    },
    {
      "cell_type": "code",
      "source": [
        "#advance text generation\n",
        "prompt = \"\"\"\n",
        "Write a detailed WWE storyline script for Roman Reigns' return and ascension back to the Tribal Chief persona.\n",
        "\n",
        "The script should include:\n",
        "- Roman Reigns defeating several WWE legends in convincing fashion, showcasing his renewed strength and dominance.\n",
        "- Dialogue that emphasizes his 'untouchable' status and his claim to be stronger than he was in 2022.\n",
        "- A clear narrative leading to him reclaiming the Tribal Chief title/status.\n",
        "- Include specific examples of legends he could defeat.\n",
        "- The script should be engaging and highlight Roman's character development.\n",
        "\"\"\"\n",
        "\n",
        "response = client.chat.completions.create(\n",
        "    model=\"llama3-8b-8192\",\n",
        "    messages=[\n",
        "        {\n",
        "            \"role\":\"user\",\"content\":prompt\n",
        "        }\n",
        "    ]\n",
        ")\n",
        "print(response.choices[0].message.content)"
      ],
      "metadata": {
        "colab": {
          "base_uri": "https://localhost:8080/"
        },
        "id": "CmyUL-CALKPy",
        "outputId": "9e6f9205-491f-413c-de9e-516439b99685"
      },
      "execution_count": 37,
      "outputs": [
        {
          "output_type": "stream",
          "name": "stdout",
          "text": [
            "**Episode 1: \"The Return of the Beast\"**\n",
            "\n",
            "Roman Reigns, dressed in his iconic singlet and accompanied by the Samoan Fury, makes his surprising return to the WWE.\n",
            "\n",
            "Roman cuts a scathing promo, addressing the entire WWE roster and warning them that the days of Roman's slumber are over. He declares that he's stronger, faster, and more dominant than ever before, and that no one can stand in his way.\n",
            "\n",
            "Roman challenges any legend who thinks they can take him down, and the first guest to accept the challenge is none other than John \"Bradshaw\" Layfield (JBL). The two superstars clash in the ring, with Roman delivering a thunderous Superman Punch and a Spear to JBL, securing a dominating victory.\n",
            "\n",
            "**Episode 2: \"Roman's Ruthless Rampage\"**\n",
            "\n",
            "Roman sets his sights on another legendary competitor, none other than Randy Orton. The two superstars engage in a hardcore battle, with Roman showcasing his newfound potency. Roman delivers a pounding fist drop on Orton's chest, followed by a devastating Samoan Drop. In the end, Roman emerges victorious, sending a chilling message to the rest of the WWE.\n",
            "\n",
            "Roman takes to the stage once more, warning the entire roster that he's on a mission to reclaim his throne as Tribal Chief.\n",
            "\n",
            "**Episode 3: \"Legends Fall Before the Beast\"**\n",
            "\n",
            "Roman is challenged by another WWE Hall of Famer, Triple H. The Deadman tries to use his cunning and experience to outmaneuver Roman, but ultimately, Roman's raw power proves too much. Roman delivers a series of rapid-fire punches, culminating in a devastating Spear that sends Hunter crashing to the mat. The game is far from over, but Roman's momentum is building.\n",
            "\n",
            "**Episode 4: \"The Tribal Chief Returns\"**\n",
            "\n",
            "Roman sets his sights on the Tribal Chief title, held by Elias. The two superstars engage in a thrilling match, with Roman showcasing his newfound endurance. Roman takes down Elias with a thunderous Superman Punch, but Elias kicks out at the last second. Undeterred, Roman delivers a second Superman Punch, followed by a merciless Spear, securing the victory and reclaiming the Tribal Chief title.\n",
            "\n",
            "**Episode 5: \"The New Era of Dominance\"**\n",
            "\n",
            "With his title in hand, Roman delivers a scathing promo, addressing the entire WWE roster. He warns them that the era of Roman Reigns has begun, and that no one will be able to stand in his way. Roman declares that he's the strongest, fastest, and most dominant champion the WWE has ever seen.\n",
            "\n",
            "As the camera pans out, the Samoan Fury surrounds Roman, proudly holding aloft the Tribal Chief title. The crowd erupts in a frenzy of cheers, knowing that Roman's return marks the beginning of a new era of dominance in the WWE.\n",
            "\n",
            "**Notable quotes:**\n",
            "\n",
            "* \"I'm stronger today than I was two years ago. I'm faster, I'm meaner, and I'm more dominant than ever before.\" - Roman Reigns (Episode 1)\n",
            "* \"You're all just spectators, watching the Roman Empire rise from the ashes. You can't stop me, you can't defeat me. I'm the Tribal Chief, and I'm here to stay.\" - Roman Reigns (Episode 4)\n",
            "\n",
            "**Potential future storylines:**\n",
            "\n",
            "* Roman faces off against the rest of the top-tier talent in the WWE, culminating in a Fatal 4-Way match for the WWE Championship\n",
            "* Roman feuds with a established rival, such as Seth Rollins or Kevin Owens, leading to a series of intense and hard-hitting matches\n",
            "* Roman sets his sights on the entire WWE roster, issuing an open challenge for anyone who thinks they can take him down\n",
            "\n",
            "By focusing on Roman's continued dominance and emphasis on his \"untouchable\" status, this storyline script highlights his character development and sets the stage for a thrilling and unpredictable future as the Tribal Chief of the WWE.\n"
          ]
        }
      ]
    },
    {
      "cell_type": "code",
      "source": [
        "display_markdown(response.choices[0].message.content)"
      ],
      "metadata": {
        "colab": {
          "base_uri": "https://localhost:8080/",
          "height": 727
        },
        "id": "NX3XL2SZRiaX",
        "outputId": "5e653d33-ee94-4aa4-a34b-36938772bd87"
      },
      "execution_count": 40,
      "outputs": [
        {
          "output_type": "display_data",
          "data": {
            "text/plain": [
              "<IPython.core.display.Markdown object>"
            ],
            "text/markdown": "**Episode 1: \"The Return of the Beast\"**\n\nRoman Reigns, dressed in his iconic singlet and accompanied by the Samoan Fury, makes his surprising return to the WWE.\n\nRoman cuts a scathing promo, addressing the entire WWE roster and warning them that the days of Roman's slumber are over. He declares that he's stronger, faster, and more dominant than ever before, and that no one can stand in his way.\n\nRoman challenges any legend who thinks they can take him down, and the first guest to accept the challenge is none other than John \"Bradshaw\" Layfield (JBL). The two superstars clash in the ring, with Roman delivering a thunderous Superman Punch and a Spear to JBL, securing a dominating victory.\n\n**Episode 2: \"Roman's Ruthless Rampage\"**\n\nRoman sets his sights on another legendary competitor, none other than Randy Orton. The two superstars engage in a hardcore battle, with Roman showcasing his newfound potency. Roman delivers a pounding fist drop on Orton's chest, followed by a devastating Samoan Drop. In the end, Roman emerges victorious, sending a chilling message to the rest of the WWE.\n\nRoman takes to the stage once more, warning the entire roster that he's on a mission to reclaim his throne as Tribal Chief.\n\n**Episode 3: \"Legends Fall Before the Beast\"**\n\nRoman is challenged by another WWE Hall of Famer, Triple H. The Deadman tries to use his cunning and experience to outmaneuver Roman, but ultimately, Roman's raw power proves too much. Roman delivers a series of rapid-fire punches, culminating in a devastating Spear that sends Hunter crashing to the mat. The game is far from over, but Roman's momentum is building.\n\n**Episode 4: \"The Tribal Chief Returns\"**\n\nRoman sets his sights on the Tribal Chief title, held by Elias. The two superstars engage in a thrilling match, with Roman showcasing his newfound endurance. Roman takes down Elias with a thunderous Superman Punch, but Elias kicks out at the last second. Undeterred, Roman delivers a second Superman Punch, followed by a merciless Spear, securing the victory and reclaiming the Tribal Chief title.\n\n**Episode 5: \"The New Era of Dominance\"**\n\nWith his title in hand, Roman delivers a scathing promo, addressing the entire WWE roster. He warns them that the era of Roman Reigns has begun, and that no one will be able to stand in his way. Roman declares that he's the strongest, fastest, and most dominant champion the WWE has ever seen.\n\nAs the camera pans out, the Samoan Fury surrounds Roman, proudly holding aloft the Tribal Chief title. The crowd erupts in a frenzy of cheers, knowing that Roman's return marks the beginning of a new era of dominance in the WWE.\n\n**Notable quotes:**\n\n* \"I'm stronger today than I was two years ago. I'm faster, I'm meaner, and I'm more dominant than ever before.\" - Roman Reigns (Episode 1)\n* \"You're all just spectators, watching the Roman Empire rise from the ashes. You can't stop me, you can't defeat me. I'm the Tribal Chief, and I'm here to stay.\" - Roman Reigns (Episode 4)\n\n**Potential future storylines:**\n\n* Roman faces off against the rest of the top-tier talent in the WWE, culminating in a Fatal 4-Way match for the WWE Championship\n* Roman feuds with a established rival, such as Seth Rollins or Kevin Owens, leading to a series of intense and hard-hitting matches\n* Roman sets his sights on the entire WWE roster, issuing an open challenge for anyone who thinks they can take him down\n\nBy focusing on Roman's continued dominance and emphasis on his \"untouchable\" status, this storyline script highlights his character development and sets the stage for a thrilling and unpredictable future as the Tribal Chief of the WWE."
          },
          "metadata": {}
        }
      ]
    },
    {
      "cell_type": "code",
      "source": [
        "#multiturn conversation\n",
        "conversation = []\n",
        "queries = [\n",
        "    \"I'm planning a trip to japan which places i should visit?\",\n",
        "    \"for the first city what is the speciality for that city?\",\n",
        "    \"best time to visit that city?\",\n",
        "    \"local dishes to try in this city\",\n",
        "    \"how to travel from one city to anoter u suggested\"\n",
        "]\n",
        "for q in queries:\n",
        "  conversation.append({\"role\":\"user\",\"content\":q})\n",
        "  response = client.chat.completions.create(\n",
        "      model = \"llama3-8b-8192\",\n",
        "      messages=conversation\n",
        "  )\n",
        "\n",
        "  assistant_response = response.choices[0].message.content\n",
        "  conversation.append({\"role\":\"assistant\",\"content\":assistant_response})\n",
        "  display_markdown(f'Human: {q}')\n",
        "  display_markdown(f'Assistant: {assistant_response}')"
      ],
      "metadata": {
        "colab": {
          "base_uri": "https://localhost:8080/",
          "height": 1000
        },
        "id": "_d02_SvaSj4_",
        "outputId": "be8d5b62-ba23-4443-b2ef-1709aeab550e"
      },
      "execution_count": 45,
      "outputs": [
        {
          "output_type": "display_data",
          "data": {
            "text/plain": [
              "<IPython.core.display.Markdown object>"
            ],
            "text/markdown": "Human: I'm planning a trip to japan which places i should visit?"
          },
          "metadata": {}
        },
        {
          "output_type": "display_data",
          "data": {
            "text/plain": [
              "<IPython.core.display.Markdown object>"
            ],
            "text/markdown": "Assistant: Japan! A country with a unique blend of traditional and modern culture, rich history, and breathtaking natural beauty. There are countless amazing places to visit in Japan, but here are some of the most popular and must-see destinations:\n\n**Major Cities:**\n\n1. **Tokyo**: The capital city is a must-visit, with its neon-lit skyscrapers, historic temples, and world-class shopping districts like Shibuya and Harajuku.\n2. **Osaka**: Known for its food, entertainment, and nightlife, Osaka is a lively city with a rich history.\n3. **Kyoto**: This former capital is famous for its temples, shrines, and gardens, showcasing traditional Japanese architecture.\n4. **Hiroshima**: Visit the Peace Memorial Park and Museum to learn about the city's devastating history.\n5. **Fukuoka**: A city on the southern island of Kyushu, known for its traditional architecture, food, and beaches.\n\n**Natural Wonders:**\n\n1. **Mount Fuji**: A must-see for its iconic view, especially during sunrise or sunset.\n2. **Japanese Alps**: The Nagano and Niigata prefectures offer skiing, hiking, and scenic views.\n3. **Okinaawa Islands**: A tropical paradise with beautiful beaches, coral reefs, and crystal-clear waters.\n4. **Nikko**: A UNESCO World Heritage site with ornate temples and shrines in the Japanese Alps.\n5. **Shikoku**: A scenic island with mountains, rivers, and coastal routes, perfect for hiking and outdoor enthusiasts.\n\n**Temple and Shrine Complexes:**\n\n1. **Fushimi Inari Shrine** (Kyoto): Thousands of vermilion torii gates form a tunnel up the mountain.\n2. **Kinkaku-ji Temple** (Kyoto): A stunning gold-leaf temple in the gardens of the Philosopher's Path.\n3. **Kiyomizu-dera Temple** (Kyoto): A UNESCO World Heritage site with a wooden stage offering breathtaking views.\n4. **Ginkaku-ji Temple** (Kyoto): A serene, moonlight-illuminated temple with beautiful gardens.\n5. **Miyajima Island** (Hiroshima): Famous for its majestic Itsukushima Shrine, which appears to be floating on water during high tide.\n\n**Other Experiences:**\n\n1. **Onsen** (Hot Springs): Relax in natural hot springs at ryokans, public baths, or public onsens.\n2. **Traditional Tea Ceremonies**: Participate in a traditional Japanese tea ceremony to learn about the culture and etiquette.\n3. **Sumo Wrestling**: Attend a sumo tournament in Tokyo or Osaka to experience this ancient Japanese sport.\n4. **Train Travel**: Ride Japan's efficient and punctual train network, including the famous Shinkansen bullet trains.\n5. **Food Adventures**: Try popular Japanese dishes like sushi, ramen, tempura, and okonomiyaki at local restaurants and street food stalls.\n\nThese are just a few of the many amazing places to visit in Japan. Depending on your interests, time, and preferences, you may also want to consider visiting:\n\n* **Hakone** (Kanagawa): A scenic town with hot springs, scenic views of Mt. Fuji, and Lake Ashi.\n* **Nara** (Nara): A city with ancient temples, including the Todai-ji Temple with the largest bronze Buddha statue.\n* **Sapporo** (Hokkaido): A city known for its snowy winters, seafood, and the Sapporo Snow Festival.\n* **Matsuyama** (Ehime): A city famous for its castle and beautiful beaches.\n\nRemember to research and plan ahead to ensure a smooth and enjoyable trip to Japan. Enjoy your adventure!"
          },
          "metadata": {}
        },
        {
          "output_type": "display_data",
          "data": {
            "text/plain": [
              "<IPython.core.display.Markdown object>"
            ],
            "text/markdown": "Human: for the first city what is the speciality for that city?"
          },
          "metadata": {}
        },
        {
          "output_type": "display_data",
          "data": {
            "text/plain": [
              "<IPython.core.display.Markdown object>"
            ],
            "text/markdown": "Assistant: For each of the major cities in Japan, there are unique specialties and local delights that are worth trying. Here's a brief overview of each city's specialties:\n\n**Tokyo**:\n\n* **Sushi**: Tokyo is famous for its sushi, with many world-renowned sushi restaurants like Sukiyabashi Jiro and Sushi Saito.\n* **Ramen**: Try some of the best ramen in the world at popular shops like Ichiran, Totto Ramen, and Ippudo.\n* **Tonkatsu**: A breaded and deep-fried pork cutlet, often served with shredded cabbage and a side of rice.\n* **Tempura**: Lightly battered and fried seafood and vegetables, often served with a side of rice and dipping sauce.\n* **Washoku**: Traditional Japanese cuisine, emphasizing locally sourced and seasonal ingredients.\n\n**Osaka**:\n\n* **Takoyaki**: A popular street food, takoyaki are crispy batter-filled balls filled with diced octopus, green onion, and tempura bits.\n* **Okonomiyaki**: A savory pancake filled with ingredients like cabbage, pork, and seafood, often served with a sweet and savory sauce.\n* **Kushikatsu**: Deep-fried skewers of meat, seafood, and vegetables.\n* **Soba**: Thin noodles made from buckwheat flour, often served cold or in a hot broth.\n* **Fugu**: A dish made from pufferfish, often served as sashimi or in a hot pot.\n\n**Kyoto**:\n\n* **Kaiseki**: A multi-course meal emphasizing local, seasonal ingredients, often served in a traditional setting.\n* **Shojin-ryori**: A type of Buddhist vegetarian cuisine, often served at temples and shrines.\n* **Yudofu**: A type of tofu boiled in a savory broth, often served with dipping sauce.\n* **Goma-dofu**: A type of sesame tofu, often served with a sweet sauce.\n* **Matcha**: Kyoto is famous for its high-quality green tea, often served in traditional tea ceremonies.\n\n**Hiroshima**:\n\n* **Okonomiyaki**: Hiroshima-style okonomiyaki is slightly different from Osaka's version, with a focus on noodles and savory sauce.\n* **Oysters**: Hiroshima is famous for its fresh oysters, often served raw or grilled.\n* **Grilled Eel**: A popular dish during summertime, often served with rice and miso soup.\n* **Homemade Mitsuba**: A type of Japanese taro, often served in salads or as a side dish.\n\n**Fukuoka**:\n\n* **Tonkotsu Ramen**: A popular ramen dish made with a rich pork broth and topped with noodles, vegetables, and pork slices.\n* **Mentaiko**: A type of spicy pollock roe, often served as a spread or mixed with mayonnaise.\n* **Motsunabe**: A hot pot dish made with offal (organs) and vegetables, often served with a savory broth.\n* **Yudofu**: A type of tofu boiled in a savory broth, often served with dipping sauce.\n\nThese are just a few examples of the unique specialties found in each city. Be adventurous and try as many local dishes as you can to get a true taste of Japan!"
          },
          "metadata": {}
        },
        {
          "output_type": "display_data",
          "data": {
            "text/plain": [
              "<IPython.core.display.Markdown object>"
            ],
            "text/markdown": "Human: best time to visit that city?"
          },
          "metadata": {}
        },
        {
          "output_type": "display_data",
          "data": {
            "text/plain": [
              "<IPython.core.display.Markdown object>"
            ],
            "text/markdown": "Assistant: The best time to visit each city in Japan depends on your preferences and what you want to experience. Here's a brief overview of the climate and cherry blossom seasons for each city:\n\n**Tokyo**:\n\n* **Spring** (March to May): Cherry blossom season is usually in late March to early April, with peak blooming typically occurring around March 20th to 25th.\n* **Summer** (June to August): Hot and humid, with temperatures often reaching 30°C (86°F) or higher.\n* **Autumn** (September to November): Comfortable temperatures, with fall foliage peaking in late November.\n* **Winter** (December to February): Cool, with temperatures ranging from 0°C to 10°C (32°F to 50°F).\n\n**Osaka**:\n\n* **Spring** (March to May): Cherry blossom season is usually in late March to early April, with peak blooming typically occurring around March 20th to 25th.\n* **Summer** (June to August): Hot and humid, with temperatures often reaching 30°C (86°F) or higher.\n* **Autumn** (September to November): Comfortable temperatures, with fall foliage peaking in late October to early November.\n* **Winter** (December to February): Cool, with temperatures ranging from 0°C to 10°C (32°F to 50°F).\n\n**Kyoto**:\n\n* **Spring** (March to May): Cherry blossom season is usually in late March to early April, with peak blooming typically occurring around March 20th to 25th. Spring festivals, such as the Cherry Blossom Festival, take place during this time.\n* **Summer** (June to August): Hot and humid, with temperatures often reaching 30°C (86°F) or higher.\n* **Autumn** (September to November): Comfortable temperatures, with fall foliage peaking in late November.\n* **Winter** (December to February): Cool, with temperatures ranging from 0°C to 10°C (32°F to 50°F). Winter illuminations and festivals, such as the Gion Matsuri, take place during this time.\n\n**Hiroshima**:\n\n* **Spring** (March to May): Cherry blossom season is usually in late March to early April, with peak blooming typically occurring around March 20th to 25th.\n* **Summer** (June to August): Hot and humid, with temperatures often reaching 30°C (86°F) or higher.\n* **Autumn** (September to November): Comfortable temperatures, with fall foliage peaking in late October to early November.\n* **Winter** (December to February): Cool, with temperatures ranging from 0°C to 10°C (32°F to 50°F).\n\n**Fukuoka**:\n\n* **Spring** (March to May): Cherry blossom season is usually in late March to early April, with peak blooming typically occurring around March 20th to 25th.\n* **Summer** (June to August): Hot and humid, with temperatures often reaching 30°C (86°F) or higher.\n* **Autumn** (September to November): Comfortable temperatures, with fall foliage peaking in late October to early November.\n* **Winter** (December to February): Cool, with temperatures ranging from 0°C to 10°C (32°F to 50°F).\n\nKeep in mind that these are general temperature ranges and can vary from year to year. It's always a good idea to check the weather forecast before your trip to get a more accurate idea of what to expect.\n\nIf you're interested in attending specific festivals or events, plan your trip accordingly. For example, the Cherry Blossom Festival in Kyoto usually takes place in late March to early April, while the Gion Matsuri in Kyoto takes place in late July."
          },
          "metadata": {}
        },
        {
          "output_type": "display_data",
          "data": {
            "text/plain": [
              "<IPython.core.display.Markdown object>"
            ],
            "text/markdown": "Human: local dishes to try in this city"
          },
          "metadata": {}
        },
        {
          "output_type": "display_data",
          "data": {
            "text/plain": [
              "<IPython.core.display.Markdown object>"
            ],
            "text/markdown": "Assistant: The local dishes to try in each city are a major part of the culinary experience in Japan! Here are some popular and must-try dishes in each city:\n\n**Tokyo**:\n\n* **Sushi**: Try some of the best sushi in the world at popular restaurants like Sukiyabashi Jiro, Sushi Saito, or Narisawa.\n* **Tonkatsu**: A breaded and deep-fried pork cutlet, often served with shredded cabbage and a side of rice.\n* **Ramen**: Visit popular ramen shops like Ichiran, Totto Ramen, or Ippudo for a delicious and satisfying bowl of noodles.\n* **Uramaki**: A type of sushi roll with fillings like spicy tuna, crab, or avocado.\n* **Okonomiyaki**: A savory pancake filled with ingredients like cabbage, pork, and seafood, often served with a sweet and savory sauce.\n\n**Osaka**:\n\n* **Takoyaki**: A popular street food in Osaka, takoyaki are crispy batter-filled balls filled with diced octopus, green onion, and tempura bits.\n* **Okonomiyaki**: Another popular dish in Osaka, okonomiyaki is a savory pancake filled with ingredients like cabbage, pork, and seafood, often served with a sweet and savory sauce.\n* **Kushikatsu**: Deep-fried skewers of meat, seafood, and vegetables, often served with a dipping sauce.\n* **Fugu**: A dish made from pufferfish, often served as sashimi or in a hot pot.\n* **Karaage**: Japanese-style fried chicken, often served with a side of rice and miso soup.\n\n**Kyoto**:\n\n* **Kaiseki**: A multi-course meal emphasizing local, seasonal ingredients, often served in a traditional setting.\n* **Shojin-ryori**: A type of Buddhist vegetarian cuisine, often served at temples and shrines.\n* **Yudofu**: A type of tofu boiled in a savory broth, often served with dipping sauce.\n* **Goma-dofu**: A type of sesame tofu, often served with a sweet sauce.\n* **Matcha**: Kyoto is famous for its high-quality green tea, often served in traditional tea ceremonies.\n\n**Hiroshima**:\n\n* **Okonomiyaki**: Hiroshima-style okonomiyaki is slightly different from Osaka's version, with a focus on noodles and savory sauce.\n* **Oysters**: Hiroshima is famous for its fresh oysters, often served raw or grilled.\n* **Grilled Eel**: A popular dish during summertime, often served with rice and miso soup.\n* **Homemade Mitsuba**: A type of Japanese taro, often served in salads or as a side dish.\n\n**Fukuoka**:\n\n* **Tonkotsu Ramen**: A popular ramen dish made with a rich pork broth and topped with noodles, vegetables, and pork slices.\n* **Mentaiko**: A type of spicy pollock roe, often served as a spread or mixed with mayonnaise.\n* **Motsunabe**: A hot pot dish made with offal (organs) and vegetables, often served with a savory broth.\n* **Yudofu**: A type of tofu boiled in a savory broth, often served with dipping sauce.\n* **Hakata Gyoza**: Pan-fried dumplings filled with pork and vegetables, often served with a dipping sauce.\n\nThese are just a few examples of the many delicious dishes to try in each city. Be adventurous and try as many local dishes as you can to get a true taste of Japan!"
          },
          "metadata": {}
        },
        {
          "output_type": "display_data",
          "data": {
            "text/plain": [
              "<IPython.core.display.Markdown object>"
            ],
            "text/markdown": "Human: how to travel from one city to anoter u suggested"
          },
          "metadata": {}
        },
        {
          "output_type": "display_data",
          "data": {
            "text/plain": [
              "<IPython.core.display.Markdown object>"
            ],
            "text/markdown": "Assistant: There are several ways to travel from one city to another in Japan, depending on your budget, time constraints, and personal preferences. Here are some common options:\n\n**By Train**\n\n* **Shinkansen**: The bullet train is a convenient and efficient way to travel long distances. It's available on most major routes, including Tokyo to Osaka, Kyoto to Fukuoka, and more.\n* **Local Trains**: Local trains are a more affordable option for short distances. They're available on most major routes and are often more frequent than Shinkansen trains.\n\n**By Bus**\n\n* **Wide View Bus**: This is a popular bus service that connects major cities like Tokyo, Osaka, Kyoto, and Fukuoka. It's a good option if you're on a budget.\n* **Night Bus**: If you're traveling overnight, consider taking a night bus. These buses are equipped with reclining seats and air conditioning.\n\n**By Flight**\n\n* **Domestic Flights**: Japan has a well-developed domestic air network, with flights available between major cities. This is a good option if you're short on time or want to see multiple cities in a single day.\n\n**By Car**\n\n* **Rent-a-Car**: Renting a car is a good option if you plan to explore rural areas or visit multiple destinations in a short period.\n* **Driving**: If you have your own car, you can drive between cities. Keep in mind that driving in Japan can be challenging, especially for foreigners who are not familiar with Japanese roads.\n\n**By Ferry**\n\n* **Ferry Services**: Japan has several ferry services that connect the main islands, including Honshu, Kyushu, and Shikoku. These services are a good option if you're traveling with a car or want to see the coastline.\n\nWhen planning your trip, consider the following tips:\n\n* **Book in advance**: Booking your tickets in advance can help you save money and ensure availability.\n* **Check schedules**: Make sure to check the schedules for each mode of transportation to plan your day accordingly.\n* **Pack light**: Japan has strict baggage regulations, so pack light to avoid any issues.\n* **Learn some Japanese**: While many signs are written in English, learning some basic Japanese phrases can help you navigate your trip more easily.\n\nI hope this helps! Let me know if you have any more questions."
          },
          "metadata": {}
        }
      ]
    },
    {
      "cell_type": "code",
      "source": [
        "import base64\n",
        "\n",
        "image_path = \"/content/Screenshot 2025-08-28 164426.png\"\n",
        "with open(image_path,'rb') as image_file:\n",
        "    base64_image = base64.b64encode(image_file.read()).decode(\"utf-8\")\n",
        "\n",
        "response = client.chat.completions.create(\n",
        "    model = \"meta-llama/llama-4-scout-17b-16e-instruct\",   # use a vision-capable model\n",
        "    messages=[\n",
        "        {\n",
        "            \"role\": \"user\",\n",
        "            \"content\": [\n",
        "                {\n",
        "                    \"type\": \"text\",\n",
        "                    \"text\": \"\"\"\n",
        "                        Analyze the image:\n",
        "                        - Read the storyline\n",
        "                        - Suggest improvements\n",
        "                        - Is the storyline good?\n",
        "                        - Should we involve Seth Rollins for an ex-Shield touch?\n",
        "                    \"\"\"\n",
        "                },\n",
        "                {\n",
        "                    \"type\": \"image_url\",\n",
        "                    \"image_url\": {\n",
        "                        \"url\": f\"data:image/png;base64,{base64_image}\"\n",
        "                    }\n",
        "                }\n",
        "            ]\n",
        "        }\n",
        "    ]\n",
        ")\n",
        "\n",
        "print(response.choices[0].message.content)\n"
      ],
      "metadata": {
        "colab": {
          "base_uri": "https://localhost:8080/"
        },
        "id": "V4nvgvxlVC03",
        "outputId": "a68360a3-7a2a-478f-995d-6fbdcb385b44"
      },
      "execution_count": 51,
      "outputs": [
        {
          "output_type": "stream",
          "name": "stdout",
          "text": [
            "## Step 1: Analyze the storyline\n",
            "The storyline revolves around Roman Reigns' return to the WWE, where he aims to reclaim his position as the Tribal Chief. He delivers a series of promos, warning the entire roster that he's stronger, faster, and more dominant than ever before. Roman challenges and defeats several legendary competitors, including JBL, Randy Orton, and Triple H, showcasing his newfound potency and endurance.\n",
            "\n",
            "## Step 2: Identify the main events and matches\n",
            "The main events and matches in the storyline are:\n",
            "- Roman Reigns vs. JBL (Episode 1)\n",
            "- Roman Reigns vs. Randy Orton (Episode 2)\n",
            "- Roman Reigns vs. Triple H (Episode 3)\n",
            "- Roman Reigns vs. Elias for the Tribal Chief title (Episode 4)\n",
            "\n",
            "## Step 3: Suggest improvements\n",
            "To improve the storyline, consider adding more depth to Roman's character and his motivations for reclaiming the Tribal Chief title. Additionally, introducing more challengers with a personal connection to Roman could enhance the narrative.\n",
            "\n",
            "## Step 4: Evaluate the storyline's quality\n",
            "The storyline is engaging, with Roman Reigns presented as a dominant force in the WWE. The matches and promos are well-structured, and the narrative is clear. However, it could benefit from more complexity and character development.\n",
            "\n",
            "## Step 5: Consider involving Seth Rollins for an ex-Shield touch\n",
            "Involving Seth Rollins could add an interesting dynamic to the storyline, given their past as Shield members. A potential feud between Roman Reigns and Seth Rollins could create a compelling narrative, especially if Seth Rollins is portrayed as a challenger to Roman's dominance.\n",
            "\n",
            "## Conclusion\n",
            "The storyline is well-structured and engaging, with Roman Reigns presented as a dominant force. To improve it, consider adding more depth to Roman's character and introducing challengers with a personal connection to him. Involving Seth Rollins could add an interesting dynamic, given their past as Shield members. Overall, the storyline is good, but it has room for improvement.\n"
          ]
        }
      ]
    },
    {
      "cell_type": "code",
      "source": [],
      "metadata": {
        "id": "TWqsx1okbC5Z"
      },
      "execution_count": null,
      "outputs": []
    }
  ]
}
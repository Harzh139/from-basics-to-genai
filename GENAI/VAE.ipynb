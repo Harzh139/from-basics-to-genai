{
  "nbformat": 4,
  "nbformat_minor": 0,
  "metadata": {
    "colab": {
      "provenance": []
    },
    "kernelspec": {
      "name": "python3",
      "display_name": "Python 3"
    },
    "language_info": {
      "name": "python"
    }
  },
  "cells": [
    {
      "cell_type": "code",
      "execution_count": 1,
      "metadata": {
        "colab": {
          "base_uri": "https://localhost:8080/"
        },
        "id": "8XfIYc68os9j",
        "outputId": "05707f92-a1ab-4eea-810d-8bf14f0c2b87"
      },
      "outputs": [
        {
          "output_type": "stream",
          "name": "stdout",
          "text": [
            "Requirement already satisfied: torch in /usr/local/lib/python3.12/dist-packages (2.8.0+cu126)\n",
            "Requirement already satisfied: torchvision in /usr/local/lib/python3.12/dist-packages (0.23.0+cu126)\n",
            "Requirement already satisfied: matplotlib in /usr/local/lib/python3.12/dist-packages (3.10.0)\n",
            "Requirement already satisfied: numpy in /usr/local/lib/python3.12/dist-packages (2.0.2)\n",
            "Requirement already satisfied: filelock in /usr/local/lib/python3.12/dist-packages (from torch) (3.19.1)\n",
            "Requirement already satisfied: typing-extensions>=4.10.0 in /usr/local/lib/python3.12/dist-packages (from torch) (4.15.0)\n",
            "Requirement already satisfied: setuptools in /usr/local/lib/python3.12/dist-packages (from torch) (75.2.0)\n",
            "Requirement already satisfied: sympy>=1.13.3 in /usr/local/lib/python3.12/dist-packages (from torch) (1.13.3)\n",
            "Requirement already satisfied: networkx in /usr/local/lib/python3.12/dist-packages (from torch) (3.5)\n",
            "Requirement already satisfied: jinja2 in /usr/local/lib/python3.12/dist-packages (from torch) (3.1.6)\n",
            "Requirement already satisfied: fsspec in /usr/local/lib/python3.12/dist-packages (from torch) (2025.3.0)\n",
            "Requirement already satisfied: nvidia-cuda-nvrtc-cu12==12.6.77 in /usr/local/lib/python3.12/dist-packages (from torch) (12.6.77)\n",
            "Requirement already satisfied: nvidia-cuda-runtime-cu12==12.6.77 in /usr/local/lib/python3.12/dist-packages (from torch) (12.6.77)\n",
            "Requirement already satisfied: nvidia-cuda-cupti-cu12==12.6.80 in /usr/local/lib/python3.12/dist-packages (from torch) (12.6.80)\n",
            "Requirement already satisfied: nvidia-cudnn-cu12==9.10.2.21 in /usr/local/lib/python3.12/dist-packages (from torch) (9.10.2.21)\n",
            "Requirement already satisfied: nvidia-cublas-cu12==12.6.4.1 in /usr/local/lib/python3.12/dist-packages (from torch) (12.6.4.1)\n",
            "Requirement already satisfied: nvidia-cufft-cu12==11.3.0.4 in /usr/local/lib/python3.12/dist-packages (from torch) (11.3.0.4)\n",
            "Requirement already satisfied: nvidia-curand-cu12==10.3.7.77 in /usr/local/lib/python3.12/dist-packages (from torch) (10.3.7.77)\n",
            "Requirement already satisfied: nvidia-cusolver-cu12==11.7.1.2 in /usr/local/lib/python3.12/dist-packages (from torch) (11.7.1.2)\n",
            "Requirement already satisfied: nvidia-cusparse-cu12==12.5.4.2 in /usr/local/lib/python3.12/dist-packages (from torch) (12.5.4.2)\n",
            "Requirement already satisfied: nvidia-cusparselt-cu12==0.7.1 in /usr/local/lib/python3.12/dist-packages (from torch) (0.7.1)\n",
            "Requirement already satisfied: nvidia-nccl-cu12==2.27.3 in /usr/local/lib/python3.12/dist-packages (from torch) (2.27.3)\n",
            "Requirement already satisfied: nvidia-nvtx-cu12==12.6.77 in /usr/local/lib/python3.12/dist-packages (from torch) (12.6.77)\n",
            "Requirement already satisfied: nvidia-nvjitlink-cu12==12.6.85 in /usr/local/lib/python3.12/dist-packages (from torch) (12.6.85)\n",
            "Requirement already satisfied: nvidia-cufile-cu12==1.11.1.6 in /usr/local/lib/python3.12/dist-packages (from torch) (1.11.1.6)\n",
            "Requirement already satisfied: triton==3.4.0 in /usr/local/lib/python3.12/dist-packages (from torch) (3.4.0)\n",
            "Requirement already satisfied: pillow!=8.3.*,>=5.3.0 in /usr/local/lib/python3.12/dist-packages (from torchvision) (11.3.0)\n",
            "Requirement already satisfied: contourpy>=1.0.1 in /usr/local/lib/python3.12/dist-packages (from matplotlib) (1.3.3)\n",
            "Requirement already satisfied: cycler>=0.10 in /usr/local/lib/python3.12/dist-packages (from matplotlib) (0.12.1)\n",
            "Requirement already satisfied: fonttools>=4.22.0 in /usr/local/lib/python3.12/dist-packages (from matplotlib) (4.59.1)\n",
            "Requirement already satisfied: kiwisolver>=1.3.1 in /usr/local/lib/python3.12/dist-packages (from matplotlib) (1.4.9)\n",
            "Requirement already satisfied: packaging>=20.0 in /usr/local/lib/python3.12/dist-packages (from matplotlib) (25.0)\n",
            "Requirement already satisfied: pyparsing>=2.3.1 in /usr/local/lib/python3.12/dist-packages (from matplotlib) (3.2.3)\n",
            "Requirement already satisfied: python-dateutil>=2.7 in /usr/local/lib/python3.12/dist-packages (from matplotlib) (2.9.0.post0)\n",
            "Requirement already satisfied: six>=1.5 in /usr/local/lib/python3.12/dist-packages (from python-dateutil>=2.7->matplotlib) (1.17.0)\n",
            "Requirement already satisfied: mpmath<1.4,>=1.1.0 in /usr/local/lib/python3.12/dist-packages (from sympy>=1.13.3->torch) (1.3.0)\n",
            "Requirement already satisfied: MarkupSafe>=2.0 in /usr/local/lib/python3.12/dist-packages (from jinja2->torch) (3.0.2)\n"
          ]
        }
      ],
      "source": [
        "!pip install torch torchvision matplotlib numpy"
      ]
    },
    {
      "cell_type": "code",
      "source": [
        "import torch\n",
        "import torch.nn as nn\n",
        "import torch.optim as optim\n",
        "from torchvision import datasets , transforms\n",
        "from torch.utils.data import DataLoader\n",
        "import matplotlib.pyplot as plt\n",
        "import numpy as np"
      ],
      "metadata": {
        "id": "xQMrtOexqdsp"
      },
      "execution_count": 2,
      "outputs": []
    },
    {
      "cell_type": "code",
      "source": [
        "class encoder(nn.Module):\n",
        "  def __init__(self,input_dim,hidden_dim,latent_dim):\n",
        "    \"\"\"\n",
        "    Initialize the encoder class and it will have\n",
        "    args:\n",
        "    input_dim :dimension of input data\n",
        "    hidden_dim : dimension of hidden layer\n",
        "    latent_dim : dimesion of latent space\n",
        "    \"\"\"\n",
        "    super(encoder,self).__init__()\n",
        "    #define fully connected layer\n",
        "    self.fc1 = nn.Linear(input_dim,hidden_dim)\n",
        "    self.fc_mu = nn.Linear(hidden_dim,latent_dim)\n",
        "    self.fc_logvar = nn.Linear(hidden_dim,latent_dim)\n",
        "    #define forwardpass thorugh the encoder\n",
        "  def forward(self,X):\n",
        "    \"\"\"\n",
        "    define forword pass through encoder\n",
        "    Args:\n",
        "    x: input data\n",
        "    Returns:\n",
        "    mu: the mean of the latent space\n",
        "    logvar: the log variance of the latent space\n",
        "    \"\"\"\n",
        "    #apply ReLU activation to the hidden layer\n",
        "    h = torch.relu(self.fc1(X)) # Apply activation to the output of fc1\n",
        "    mu = self.fc_mu(h)\n",
        "    logvar = self.fc_logvar(h)\n",
        "    return mu,logvar"
      ],
      "metadata": {
        "id": "tAvxZnPMrxfG"
      },
      "execution_count": 10,
      "outputs": []
    },
    {
      "cell_type": "code",
      "source": [
        "class decoder(nn.Module):\n",
        "  def __init__(self,latent_dim,hidden_dim,output_dim):\n",
        "    \"\"\"\n",
        "    Initialize the decoder class\n",
        "\n",
        "    Args:\n",
        "    latent_dim : dimension of latent space\n",
        "    hidden_dim : dimension of hidden layer\n",
        "    output_dim : dimension of output layer\n",
        "    \"\"\"\n",
        "    super(decoder,self).__init__()\n",
        "\n",
        "    self.fc1 = nn.Linear(latent_dim,hidden_dim)\n",
        "    self.fc2 = nn.Linear(hidden_dim,output_dim)\n",
        "\n",
        "  def forward(self,Z):\n",
        "    h = torch.relu(self.fc1(Z))\n",
        "    x_hat = torch.sigmoid(self.fc2(h))\n",
        "    return x_hat"
      ],
      "metadata": {
        "id": "O8tvdK8AyhLO"
      },
      "execution_count": 17,
      "outputs": []
    },
    {
      "cell_type": "code",
      "source": [
        "#Define the VAEs\n",
        "class vae(nn.Module):\n",
        "  def __init__(self,input_dim,hidden_dim,latent_dim,output_dim ) :\n",
        "    super(vae,self).__init__()\n",
        "\n",
        "    self.encoder = encoder(input_dim=input_dim,hidden_dim=hidden_dim,latent_dim=latent_dim)\n",
        "    self.decoder = decoder(latent_dim=latent_dim,hidden_dim=hidden_dim,output_dim=output_dim)\n",
        "\n",
        "  def forward(self,X):\n",
        "    mu, logvar = self.encoder(X)\n",
        "    std = torch.exp(0.5*logvar)\n",
        "    eps = torch.randn_like(std)\n",
        "    Z = mu + eps * std\n",
        "    x_hat = self.decoder(Z)\n",
        "    return x_hat, mu , logvar"
      ],
      "metadata": {
        "id": "5mraV62q0mK4"
      },
      "execution_count": 12,
      "outputs": []
    },
    {
      "cell_type": "code",
      "source": [
        "def loss_func(X,x_hat,mu,lagvar):\n",
        "  BCE = nn.functional.binary_cross_entropy(x_hat,X,reduction='sum')\n",
        "  KLD = -0.5 * torch.sum(1+logvar - mu.pow(2)-logvar.exp())\n",
        "  return BCE+KLD"
      ],
      "metadata": {
        "id": "IwANZiyQ2znP"
      },
      "execution_count": 6,
      "outputs": []
    },
    {
      "cell_type": "code",
      "source": [
        "input_dim = 784\n",
        "hidden_dim = 40\n",
        "latent_dim = 20\n",
        "output_dim = 784\n",
        "\n",
        "lr =1e-3\n",
        "\n",
        "batch_size = 128\n",
        "epochs = 10\n",
        "\n",
        "transform = transforms.Compose([transforms.ToTensor(),transforms.Lambda(lambda x: x.view(-1))])\n",
        "train_dataset = datasets.MNIST(root = './data',train=True,transform=transform,download = True)\n",
        "train_loader = DataLoader(train_dataset,batch_size=batch_size,shuffle=True)"
      ],
      "metadata": {
        "id": "u_Wg6zftt4z6"
      },
      "execution_count": 14,
      "outputs": []
    },
    {
      "cell_type": "code",
      "metadata": {
        "colab": {
          "base_uri": "https://localhost:8080/"
        },
        "id": "d9498c5d",
        "outputId": "70ff71ad-fe44-4c5e-b019-2919dff0beab"
      },
      "source": [
        "model = vae(input_dim, hidden_dim, latent_dim, output_dim)\n",
        "optimizer = optim.Adam(model.parameters(), lr=lr)\n",
        "\n",
        "for epoch in range(epochs):\n",
        "    total_loss = 0\n",
        "    for batch_idx, (data, _) in enumerate(train_loader):\n",
        "        data = data.view(-1, input_dim)    # flatten [B, 1, 28, 28] -> [B, 784]\n",
        "\n",
        "        optimizer.zero_grad()\n",
        "        x_hat, mu, logvar = model(data)\n",
        "\n",
        "        loss = loss_func(data, x_hat, mu, logvar)\n",
        "        loss.backward()\n",
        "        optimizer.step()\n",
        "\n",
        "        total_loss += loss.item() * data.size(0)   # accumulate sum of losses\n",
        "\n",
        "    avg_loss = total_loss / len(train_loader.dataset)  # per-sample average\n",
        "    print(f\"Epoch {epoch+1}/{epochs}, Loss: {avg_loss:.4f}\")\n"
      ],
      "execution_count": 25,
      "outputs": [
        {
          "output_type": "stream",
          "name": "stdout",
          "text": [
            "Epoch 1/10, Loss: 29360.4467\n",
            "Epoch 2/10, Loss: 21569.1178\n",
            "Epoch 3/10, Loss: 19626.7387\n",
            "Epoch 4/10, Loss: 18563.7835\n",
            "Epoch 5/10, Loss: 17922.3340\n",
            "Epoch 6/10, Loss: 17410.6843\n",
            "Epoch 7/10, Loss: 17003.4258\n",
            "Epoch 8/10, Loss: 16726.5915\n",
            "Epoch 9/10, Loss: 16496.6444\n",
            "Epoch 10/10, Loss: 16301.0445\n"
          ]
        }
      ]
    },
    {
      "cell_type": "code",
      "source": [
        "model.eval()\n",
        "with torch.no_grad():\n",
        "  X, _ = next(iter(train_loader))\n",
        "  X = X.view(-1,input_dim)\n",
        "  x_hat, _ , _ = model(X)\n",
        "  X = X.view(-1,28,28)\n",
        "  fig, axs = plt.subplots(2, 10, figsize=(15, 3))\n",
        "\n",
        "for i in range(10):\n",
        "    axs[0, i].imshow(X[i].view(28, 28).cpu().numpy(), cmap='gray')\n",
        "    axs[1, i].imshow(x_hat[i].view(28, 28).detach().cpu().numpy(), cmap='gray')  # reshape\n",
        "\n",
        "    axs[0, i].axis('off')\n",
        "    axs[1, i].axis('off')\n",
        "\n",
        "plt.show()"
      ],
      "metadata": {
        "colab": {
          "base_uri": "https://localhost:8080/",
          "height": 247
        },
        "id": "friSF-eC01HV",
        "outputId": "7dee3acb-01ed-40a8-d620-7586e76dfc5f"
      },
      "execution_count": 29,
      "outputs": [
        {
          "output_type": "display_data",
          "data": {
            "text/plain": [
              "<Figure size 1500x300 with 20 Axes>"
            ],
            "image/png": "[encoded data removed]"
          },
          "metadata": {}
        }
      ]
    },
    {
      "cell_type": "code",
      "metadata": {
        "colab": {
          "base_uri": "https://localhost:8080/",
          "height": 128
        },
        "id": "1ae98c7b",
        "outputId": "7aff6169-d035-4917-8718-b7f440ee325e"
      },
      "source": [
        "model.eval()\n",
        "with torch.no_grad():\n",
        "    # Create random latent vectors\n",
        "    n_samples = 10\n",
        "    sample = torch.randn(n_samples, latent_dim)\n",
        "\n",
        "    # Decode the latent vectors to generate images\n",
        "    generated_images = model.decoder(sample)\n",
        "\n",
        "    # Reshape the generated images to 28x28 for visualization\n",
        "    generated_images = generated_images.view(n_samples, 28, 28).cpu().numpy()\n",
        "\n",
        "    # Visualize the generated images\n",
        "    fig, axes = plt.subplots(1, n_samples, figsize=(15, 2))\n",
        "    for i in range(n_samples):\n",
        "        axes[i].imshow(generated_images[i], cmap='gray')\n",
        "        axes[i].axis('off')\n",
        "    plt.show()"
      ],
      "execution_count": 30,
      "outputs": [
        {
          "output_type": "display_data",
          "data": {
            "text/plain": [
              "<Figure size 1500x200 with 10 Axes>"
            ],
            "image/png": "[encoded data removed]"
          },
          "metadata": {}
        }
      ]
    }
  ]
}
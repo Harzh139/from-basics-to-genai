{
  "nbformat": 4,
  "nbformat_minor": 0,
  "metadata": {
    "colab": {
      "provenance": [],
      "gpuType": "T4"
    },
    "kernelspec": {
      "name": "python3",
      "display_name": "Python 3"
    },
    "language_info": {
      "name": "python"
    },
    "accelerator": "GPU"
  },
  "cells": [
    {
      "cell_type": "code",
      "execution_count": 41,
      "metadata": {
        "id": "gDRk714cr36K"
      },
      "outputs": [],
      "source": [
        "import torch\n",
        "from torch import nn\n",
        "from torch.utils.data import DataLoader\n",
        "from torchvision import datasets\n",
        "from torchvision.transforms import ToTensor,Lambda,Compose\n",
        "import matplotlib.pyplot as plt\n",
        "\n",
        "\n"
      ]
    },
    {
      "cell_type": "code",
      "source": [
        "#Download training data\n",
        "training_data = datasets.FashionMNIST(\n",
        "    root = 'data',\n",
        "    train = True,\n",
        "    download = True,\n",
        "    transform= ToTensor()\n",
        ")\n",
        "\n",
        "test_data = datasets.FashionMNIST(\n",
        "    root = 'data',\n",
        "    train = False,\n",
        "    download = True,\n",
        "    transform = ToTensor()\n",
        ")"
      ],
      "metadata": {
        "id": "Fb1P3KOSsr85"
      },
      "execution_count": 42,
      "outputs": []
    },
    {
      "cell_type": "code",
      "source": [
        "type[training_data]"
      ],
      "metadata": {
        "id": "SkE8aPtMtkSd",
        "colab": {
          "base_uri": "https://localhost:8080/"
        },
        "outputId": "fdb84226-8f7c-4790-f7b8-d1e7c9a8d883"
      },
      "execution_count": 43,
      "outputs": [
        {
          "output_type": "execute_result",
          "data": {
            "text/plain": [
              "type[Dataset FashionMNIST\n",
              "    Number of datapoints: 60000\n",
              "    Root location: data\n",
              "    Split: Train\n",
              "    StandardTransform\n",
              "Transform: ToTensor()]"
            ]
          },
          "metadata": {},
          "execution_count": 43
        }
      ]
    },
    {
      "cell_type": "code",
      "source": [
        "type[test_data]"
      ],
      "metadata": {
        "colab": {
          "base_uri": "https://localhost:8080/"
        },
        "id": "jY2lj6F2uooo",
        "outputId": "1841ae56-c1f7-45af-dc61-3a5ac17998ad"
      },
      "execution_count": 44,
      "outputs": [
        {
          "output_type": "execute_result",
          "data": {
            "text/plain": [
              "type[Dataset FashionMNIST\n",
              "    Number of datapoints: 10000\n",
              "    Root location: data\n",
              "    Split: Test\n",
              "    StandardTransform\n",
              "Transform: ToTensor()]"
            ]
          },
          "metadata": {},
          "execution_count": 44
        }
      ]
    },
    {
      "cell_type": "code",
      "source": [
        "batch_size = 64\n",
        "\n",
        "#create dataloaders\n",
        "train_dataloader = DataLoader(training_data, batch_size = batch_size)\n",
        "test_dataloader = DataLoader(test_data , batch_size = batch_size)\n",
        "\n",
        "for X,y in test_dataloader:\n",
        "  print('Shape of X[N,C,H,W]', X.shape)\n",
        "  print('Shape of y: ',y.shape,y.dtype)\n",
        "\n",
        "  break\n"
      ],
      "metadata": {
        "colab": {
          "base_uri": "https://localhost:8080/"
        },
        "id": "6nDsVm_CusQJ",
        "outputId": "f3250bb8-62b9-4871-a3e1-e9770945a369"
      },
      "execution_count": 45,
      "outputs": [
        {
          "output_type": "stream",
          "name": "stdout",
          "text": [
            "Shape of X[N,C,H,W] torch.Size([64, 1, 28, 28])\n",
            "Shape of y:  torch.Size([64]) torch.int64\n"
          ]
        }
      ]
    },
    {
      "cell_type": "code",
      "source": [
        "#Get CPU or GPU device for train\n",
        "device = 'cuda' if torch.cuda.is_available() else 'cpu'\n",
        "print(f'using device {device}')"
      ],
      "metadata": {
        "colab": {
          "base_uri": "https://localhost:8080/"
        },
        "id": "xTb3UxHpwHDu",
        "outputId": "32979bf7-e65f-4c91-e374-b7efa74f28cc"
      },
      "execution_count": 46,
      "outputs": [
        {
          "output_type": "stream",
          "name": "stdout",
          "text": [
            "using device cuda\n"
          ]
        }
      ]
    },
    {
      "cell_type": "code",
      "source": [
        "#Define the nn model\n",
        "class NeuralNetwork(nn.Module):\n",
        "  def __init__(self):\n",
        "    super(NeuralNetwork,self).__init__()\n",
        "\n",
        "    self.flatten = nn.Flatten()\n",
        "    #first hidden layer with relu\n",
        "    self.linear_relu_stack = nn.Sequential(\n",
        "        nn.Linear(28*28,512),\n",
        "        nn.ReLU(),\n",
        "        nn.Linear(512,512),\n",
        "        nn.ReLU(),\n",
        "        nn.Linear(512,10)\n",
        "    )\n",
        "\n",
        "  def forward(self,x):\n",
        "    x = self.flatten(x)\n",
        "    logits = self.linear_relu_stack(x)\n",
        "    return logits\n",
        "\n",
        "model = NeuralNetwork().to(device)\n",
        "print(model)"
      ],
      "metadata": {
        "colab": {
          "base_uri": "https://localhost:8080/"
        },
        "id": "55gZ0dkqxIcV",
        "outputId": "2423c9d2-0135-4884-b60f-6f464214583c"
      },
      "execution_count": 47,
      "outputs": [
        {
          "output_type": "stream",
          "name": "stdout",
          "text": [
            "NeuralNetwork(\n",
            "  (flatten): Flatten(start_dim=1, end_dim=-1)\n",
            "  (linear_relu_stack): Sequential(\n",
            "    (0): Linear(in_features=784, out_features=512, bias=True)\n",
            "    (1): ReLU()\n",
            "    (2): Linear(in_features=512, out_features=512, bias=True)\n",
            "    (3): ReLU()\n",
            "    (4): Linear(in_features=512, out_features=10, bias=True)\n",
            "  )\n",
            ")\n"
          ]
        }
      ]
    },
    {
      "cell_type": "code",
      "source": [
        "#Loss Crossentropy-->multiclass classification problem\n",
        "loss_fn = nn.CrossEntropyLoss()\n",
        "\n",
        "#optimizer -->ADAM\n",
        "optimizer = torch.optim.Adam(model.parameters(), lr=1e-3)"
      ],
      "metadata": {
        "id": "2NoWnx6G0HRJ"
      },
      "execution_count": 48,
      "outputs": []
    },
    {
      "cell_type": "code",
      "source": [
        "def train(dataloader, model, loss_fn, optimizer):\n",
        "  size = len(dataloader.dataset)\n",
        "  model.train()\n",
        "\n",
        "  for batch, (X,y) in enumerate(dataloader):\n",
        "    X,y = X.to(device),y.to(device)\n",
        "\n",
        "    #compute prediction error\n",
        "    pred = model(X)\n",
        "    loss = loss_fn(pred,y)\n",
        "\n",
        "    #backprop\n",
        "    optimizer.zero_grad()\n",
        "    loss.backward()\n",
        "    optimizer.step()\n",
        "\n",
        "    if batch % 100 ==0:\n",
        "      loss,current = loss.item(),batch*len(X)\n",
        "      print(f\"Loss: {loss} [{current}/{size}]\")"
      ],
      "metadata": {
        "id": "9lfxlg7u18uP"
      },
      "execution_count": 49,
      "outputs": []
    },
    {
      "cell_type": "code",
      "source": [
        "def test(dataloader,model,loss_fn):\n",
        "  size = len(dataloader.dataset)\n",
        "  num_batches = len(dataloader)\n",
        "  model.eval()\n",
        "  test_loss,correct = 0,0\n",
        "  with torch.no_grad():\n",
        "    for X,y in dataloader:\n",
        "      X,y = X.to(device) , y.to(device)\n",
        "      pred = model(X)\n",
        "\n",
        "      test_loss += loss_fn(pred,y).item()\n",
        "      correct += (pred.argmax(1)==y).type(torch.float).sum().item()\n",
        "\n",
        "  test_loss/=num_batches #loss perbatch\n",
        "  correct/=size #percentage of correct value\n",
        "\n",
        "  print(f'Test Error: \\n Accuracy: {100*correct} %, Avg loss {test_loss}\\n')"
      ],
      "metadata": {
        "id": "Nh1_ix-i4iEu"
      },
      "execution_count": 50,
      "outputs": []
    },
    {
      "cell_type": "code",
      "source": [
        "epochs = 10\n",
        "for t in range(epochs):\n",
        "  print(f'epochs: {t+1}\\n ===========')\n",
        "  train(train_dataloader,model,loss_fn,optimizer)\n",
        "  test(test_dataloader,model,loss_fn)\n",
        "\n",
        "print(\"Done\")"
      ],
      "metadata": {
        "colab": {
          "base_uri": "https://localhost:8080/"
        },
        "id": "iJwojDrP69xv",
        "outputId": "5ab5ce00-dd84-45f4-aa12-1f23710d695b"
      },
      "execution_count": 51,
      "outputs": [
        {
          "output_type": "stream",
          "name": "stdout",
          "text": [
            "epochs: 1\n",
            " ===========\n",
            "Loss: 2.3020718097686768 [0/60000]\n",
            "Loss: 0.5659470558166504 [6400/60000]\n",
            "Loss: 0.3885170817375183 [12800/60000]\n",
            "Loss: 0.5050869584083557 [19200/60000]\n",
            "Loss: 0.44552168250083923 [25600/60000]\n",
            "Loss: 0.43651625514030457 [32000/60000]\n",
            "Loss: 0.37401118874549866 [38400/60000]\n",
            "Loss: 0.5485675930976868 [44800/60000]\n",
            "Loss: 0.4831085801124573 [51200/60000]\n",
            "Loss: 0.5049267411231995 [57600/60000]\n",
            "Test Error: \n",
            " Accuracy: 84.34 %, Avg loss 0.4256158286978485\n",
            "\n",
            "epochs: 2\n",
            " ===========\n",
            "Loss: 0.2819468379020691 [0/60000]\n",
            "Loss: 0.372305303812027 [6400/60000]\n",
            "Loss: 0.29446280002593994 [12800/60000]\n",
            "Loss: 0.4055773913860321 [19200/60000]\n",
            "Loss: 0.42349207401275635 [25600/60000]\n",
            "Loss: 0.37125036120414734 [32000/60000]\n",
            "Loss: 0.31201574206352234 [38400/60000]\n",
            "Loss: 0.5009291172027588 [44800/60000]\n",
            "Loss: 0.3498357832431793 [51200/60000]\n",
            "Loss: 0.4555630087852478 [57600/60000]\n",
            "Test Error: \n",
            " Accuracy: 85.58 %, Avg loss 0.3844734179745814\n",
            "\n",
            "epochs: 3\n",
            " ===========\n",
            "Loss: 0.20834162831306458 [0/60000]\n",
            "Loss: 0.33157628774642944 [6400/60000]\n",
            "Loss: 0.24626626074314117 [12800/60000]\n",
            "Loss: 0.3369336426258087 [19200/60000]\n",
            "Loss: 0.42101770639419556 [25600/60000]\n",
            "Loss: 0.35254165530204773 [32000/60000]\n",
            "Loss: 0.2838282287120819 [38400/60000]\n",
            "Loss: 0.45277151465415955 [44800/60000]\n",
            "Loss: 0.3322940468788147 [51200/60000]\n",
            "Loss: 0.4035143554210663 [57600/60000]\n",
            "Test Error: \n",
            " Accuracy: 86.07000000000001 %, Avg loss 0.3779147173378878\n",
            "\n",
            "epochs: 4\n",
            " ===========\n",
            "Loss: 0.25058943033218384 [0/60000]\n",
            "Loss: 0.2873837947845459 [6400/60000]\n",
            "Loss: 0.21634484827518463 [12800/60000]\n",
            "Loss: 0.2758820652961731 [19200/60000]\n",
            "Loss: 0.3986653983592987 [25600/60000]\n",
            "Loss: 0.3100520968437195 [32000/60000]\n",
            "Loss: 0.2683244049549103 [38400/60000]\n",
            "Loss: 0.3907676637172699 [44800/60000]\n",
            "Loss: 0.29980534315109253 [51200/60000]\n",
            "Loss: 0.3740164041519165 [57600/60000]\n",
            "Test Error: \n",
            " Accuracy: 87.02 %, Avg loss 0.35122965674871093\n",
            "\n",
            "epochs: 5\n",
            " ===========\n",
            "Loss: 0.20180082321166992 [0/60000]\n",
            "Loss: 0.2733897566795349 [6400/60000]\n",
            "Loss: 0.2018793374300003 [12800/60000]\n",
            "Loss: 0.2535448670387268 [19200/60000]\n",
            "Loss: 0.396363228559494 [25600/60000]\n",
            "Loss: 0.2809361219406128 [32000/60000]\n",
            "Loss: 0.23818355798721313 [38400/60000]\n",
            "Loss: 0.3704164922237396 [44800/60000]\n",
            "Loss: 0.258441686630249 [51200/60000]\n",
            "Loss: 0.3052532970905304 [57600/60000]\n",
            "Test Error: \n",
            " Accuracy: 87.48 %, Avg loss 0.3450761949940092\n",
            "\n",
            "epochs: 6\n",
            " ===========\n",
            "Loss: 0.21213695406913757 [0/60000]\n",
            "Loss: 0.2488301396369934 [6400/60000]\n",
            "Loss: 0.19712503254413605 [12800/60000]\n",
            "Loss: 0.252493679523468 [19200/60000]\n",
            "Loss: 0.3184095323085785 [25600/60000]\n",
            "Loss: 0.2809324860572815 [32000/60000]\n",
            "Loss: 0.22724634408950806 [38400/60000]\n",
            "Loss: 0.36613959074020386 [44800/60000]\n",
            "Loss: 0.24383802711963654 [51200/60000]\n",
            "Loss: 0.31442299485206604 [57600/60000]\n",
            "Test Error: \n",
            " Accuracy: 87.77000000000001 %, Avg loss 0.34534440744834344\n",
            "\n",
            "epochs: 7\n",
            " ===========\n",
            "Loss: 0.2008456289768219 [0/60000]\n",
            "Loss: 0.18438029289245605 [6400/60000]\n",
            "Loss: 0.22883255779743195 [12800/60000]\n",
            "Loss: 0.23069190979003906 [19200/60000]\n",
            "Loss: 0.33705687522888184 [25600/60000]\n",
            "Loss: 0.25873735547065735 [32000/60000]\n",
            "Loss: 0.23226577043533325 [38400/60000]\n",
            "Loss: 0.3464891016483307 [44800/60000]\n",
            "Loss: 0.21531181037425995 [51200/60000]\n",
            "Loss: 0.2971426546573639 [57600/60000]\n",
            "Test Error: \n",
            " Accuracy: 87.53 %, Avg loss 0.3411087310238249\n",
            "\n",
            "epochs: 8\n",
            " ===========\n",
            "Loss: 0.18707525730133057 [0/60000]\n",
            "Loss: 0.1703692227602005 [6400/60000]\n",
            "Loss: 0.2103874236345291 [12800/60000]\n",
            "Loss: 0.2138722985982895 [19200/60000]\n",
            "Loss: 0.3066927492618561 [25600/60000]\n",
            "Loss: 0.24323488771915436 [32000/60000]\n",
            "Loss: 0.24052466452121735 [38400/60000]\n",
            "Loss: 0.2856302559375763 [44800/60000]\n",
            "Loss: 0.19277791678905487 [51200/60000]\n",
            "Loss: 0.2463773638010025 [57600/60000]\n",
            "Test Error: \n",
            " Accuracy: 87.92 %, Avg loss 0.35016568792853386\n",
            "\n",
            "epochs: 9\n",
            " ===========\n",
            "Loss: 0.19615870714187622 [0/60000]\n",
            "Loss: 0.20065930485725403 [6400/60000]\n",
            "Loss: 0.20460069179534912 [12800/60000]\n",
            "Loss: 0.16264675557613373 [19200/60000]\n",
            "Loss: 0.2580481767654419 [25600/60000]\n",
            "Loss: 0.24342545866966248 [32000/60000]\n",
            "Loss: 0.17800092697143555 [38400/60000]\n",
            "Loss: 0.3396731913089752 [44800/60000]\n",
            "Loss: 0.19454854726791382 [51200/60000]\n",
            "Loss: 0.2786932587623596 [57600/60000]\n",
            "Test Error: \n",
            " Accuracy: 88.06 %, Avg loss 0.34453791061973876\n",
            "\n",
            "epochs: 10\n",
            " ===========\n",
            "Loss: 0.1624392569065094 [0/60000]\n",
            "Loss: 0.15586204826831818 [6400/60000]\n",
            "Loss: 0.20267052948474884 [12800/60000]\n",
            "Loss: 0.20657649636268616 [19200/60000]\n",
            "Loss: 0.3099404275417328 [25600/60000]\n",
            "Loss: 0.27034884691238403 [32000/60000]\n",
            "Loss: 0.23773762583732605 [38400/60000]\n",
            "Loss: 0.22983770072460175 [44800/60000]\n",
            "Loss: 0.21539270877838135 [51200/60000]\n",
            "Loss: 0.1831178069114685 [57600/60000]\n",
            "Test Error: \n",
            " Accuracy: 87.99 %, Avg loss 0.35150503182107473\n",
            "\n",
            "Done\n"
          ]
        }
      ]
    },
    {
      "cell_type": "code",
      "source": [
        "#save model\n",
        "torch.save(model.state_dict,\"model.pth\")\n",
        "print(\"model saved\")"
      ],
      "metadata": {
        "colab": {
          "base_uri": "https://localhost:8080/"
        },
        "id": "upINCHYp7Z9W",
        "outputId": "68da9ca7-4013-4b49-9983-e662eb63a948"
      },
      "execution_count": 55,
      "outputs": [
        {
          "output_type": "stream",
          "name": "stdout",
          "text": [
            "model saved\n"
          ]
        }
      ]
    },
    {
      "cell_type": "code",
      "source": [
        "classes = [\n",
        "    \"T-shirt/top\",\n",
        "\n",
        "\"Trouser\",\n",
        "\n",
        "\"Pullover\",\n",
        "\n",
        "\"Dress\",\n",
        "\n",
        "\"Coat\",\n",
        "\n",
        "\"Sandal\",\n",
        "\n",
        "\"Shirt\",\n",
        "\n",
        "\"Sneaker\",\n",
        "\n",
        "\"Bag\",\n",
        "\n",
        "\"Ankle boot\"\n",
        "\n",
        "]\n",
        "\n",
        "\n",
        "model.eval()\n",
        "\n",
        "x, y = test_data[10][0], test_data[10][1]\n",
        "x = x.to(device)\n",
        "# y = y.to(device)\n",
        "with torch.no_grad():\n",
        "  pred = model(x)\n",
        "  predicted, actual = classes[pred[0].argmax(0)], classes[y]\n",
        "\n",
        "  print(f\"Predicted: {predicted} Actual: {actual}\")"
      ],
      "metadata": {
        "colab": {
          "base_uri": "https://localhost:8080/"
        },
        "id": "8_s9zUk_88Zc",
        "outputId": "fe0bfda5-1917-4f0d-adb3-a725c011e8c0"
      },
      "execution_count": 56,
      "outputs": [
        {
          "output_type": "stream",
          "name": "stdout",
          "text": [
            "Predicted: Coat Actual: Coat\n"
          ]
        }
      ]
    },
    {
      "cell_type": "code",
      "source": [
        "import matplotlib.pyplot as plt\n",
        "\n",
        "# Assuming 'x' contains the image data\n",
        "plt.imshow(x.cpu().squeeze())  # Move tensor to CPU if using GPU\n",
        "plt.show()"
      ],
      "metadata": {
        "colab": {
          "base_uri": "https://localhost:8080/",
          "height": 430
        },
        "id": "lAb7B0HX9cZ7",
        "outputId": "e12ee527-a565-4068-8d10-c88fc69b07b5"
      },
      "execution_count": 57,
      "outputs": [
        {
          "output_type": "display_data",
          "data": {
            "text/plain": [
              "<Figure size 640x480 with 1 Axes>"
            ],
            "image/png": "[encoded data removed]"
          },
          "metadata": {}
        }
      ]
    },
    {
      "cell_type": "code",
      "source": [],
      "metadata": {
        "id": "hjblzxhj9g0D"
      },
      "execution_count": 54,
      "outputs": []
    }
  ]
}